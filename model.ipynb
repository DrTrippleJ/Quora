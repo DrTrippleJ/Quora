{
 "cells": [
  {
   "cell_type": "code",
   "execution_count": 32,
   "metadata": {},
   "outputs": [],
   "source": [
    "import numpy as np\n",
    "import pandas as pd\n",
    "import mlxtend\n",
    "from sklearn.preprocessing import MinMaxScaler "
   ]
  },
  {
   "cell_type": "markdown",
   "metadata": {},
   "source": [
    "# read features"
   ]
  },
  {
   "cell_type": "code",
   "execution_count": 85,
   "metadata": {},
   "outputs": [
    {
     "data": {
      "text/plain": [
       "0     404290\n",
       "1     404290\n",
       "2     404290\n",
       "3     404290\n",
       "4     404290\n",
       "5     404290\n",
       "6     404290\n",
       "7     404290\n",
       "8     404290\n",
       "9     404290\n",
       "10    404290\n",
       "11    404290\n",
       "12    404290\n",
       "13    404290\n",
       "14    404290\n",
       "15    404290\n",
       "16    404290\n",
       "17    404290\n",
       "18    404290\n",
       "19    404290\n",
       "20    404290\n",
       "21    404290\n",
       "22    404290\n",
       "23    404290\n",
       "24    404290\n",
       "25    404290\n",
       "26    404290\n",
       "27    404290\n",
       "28    404290\n",
       "29    404290\n",
       "30    404290\n",
       "31    404290\n",
       "32    404290\n",
       "33    404290\n",
       "34    404290\n",
       "35    404290\n",
       "36    404290\n",
       "dtype: int64"
      ]
     },
     "execution_count": 85,
     "metadata": {},
     "output_type": "execute_result"
    }
   ],
   "source": [
    "train_features_basic = pd.read_pickle('train_data_features_basic.pkl')\n",
    "train_features_fw = pd.read_pickle('train_data_features_fw.pkl')\n",
    "train_features_w2v_1 = pd.read_pickle('train_data_features_w2v_1.pkl')\n",
    "train_features_magic_v1 = pd.read_pickle('train_data_features_magic_v1.pkl')\n",
    "train_features_w2v_2 = pd.read_pickle('train_data_features_w2v_2.pkl')\n",
    "train_features_magic_v2 = pd.read_pickle('train_data_features_magic_v2.pkl')\n",
    "\n",
    "# X_train_features = pd.concat([train_features_basic,\n",
    "#                             train_features_fw,\n",
    "#                             train_features_w2v_1,\n",
    "#                             train_features_w2v_2,\n",
    "#                             train_features_magic_v1,\n",
    "#                            train_features_magic_v2],axis = 1)\n",
    "X_train = pd.concat([train_features_basic,\n",
    "                             train_features_fw,train_features_w2v_1,train_features_w2v_2],axis=1)\n",
    "X_train[X_train>=np.finfo(np.float32).max] = np.finfo(np.float32).max-100\n",
    "where_are_inf = np.isinf(X_train)\n",
    "X_train[where_are_inf] = np.finfo(np.float32).max-100\n",
    "X_train=pd.DataFrame(X_train).fillna(0.0).values\n",
    "\n",
    "mm=MinMaxScaler()\n",
    "mm.fit(X_train)\n",
    "X_train=mm.transform(X_train)\n",
    "X_train = np.hstack([X_train,train_features_magic_v1,train_features_magic_v2])\n",
    "X_train = pd.DataFrame(X_train)#.astype('float32')\n",
    "\n",
    "np.isfinite(X_train).sum()"
   ]
  },
  {
   "cell_type": "code",
   "execution_count": 77,
   "metadata": {},
   "outputs": [
    {
     "data": {
      "text/plain": [
       "nan"
      ]
     },
     "execution_count": 77,
     "metadata": {},
     "output_type": "execute_result"
    }
   ],
   "source": [
    "X_train.jaccard_distance[404276]"
   ]
  },
  {
   "cell_type": "code",
   "execution_count": 73,
   "metadata": {},
   "outputs": [
    {
     "data": {
      "text/plain": [
       "len_q1                      0\n",
       "len_q2                      0\n",
       "diff_len                    0\n",
       "len_char_q1                 0\n",
       "len_char_q2                 0\n",
       "len_word_q1                 0\n",
       "len_word_q2                 0\n",
       "common_word                 0\n",
       "R                           0\n",
       "simple_ratio                0\n",
       "partial_ratio               0\n",
       "token_sort_ratio            0\n",
       "partial_token_sort_ratio    0\n",
       "token_set_ratio             0\n",
       "partial_token_set_ratio     0\n",
       "QRatio                      0\n",
       "UQRatio                     0\n",
       "WRatio                      0\n",
       "UWRatio                     0\n",
       "wmd                         0\n",
       "norm_wmd                    0\n",
       "cosine_distance             0\n",
       "cityblock_distance          0\n",
       "jaccard_distance            0\n",
       "canberra_distance           0\n",
       "euclidean_distance          0\n",
       "minkowski_distance          0\n",
       "braycurtis_distance         0\n",
       "skew_q1vec                  0\n",
       "skew_q2vec                  0\n",
       "kur_q1vec                   0\n",
       "kur_q2vec                   0\n",
       "dtype: int64"
      ]
     },
     "execution_count": 73,
     "metadata": {},
     "output_type": "execute_result"
    }
   ],
   "source": [
    "np.isinf(X_train).sum()"
   ]
  },
  {
   "cell_type": "code",
   "execution_count": 72,
   "metadata": {},
   "outputs": [
    {
     "data": {
      "text/plain": [
       "len_q1                      404290\n",
       "len_q2                      404290\n",
       "diff_len                    404290\n",
       "len_char_q1                 404290\n",
       "len_char_q2                 404290\n",
       "len_word_q1                 404290\n",
       "len_word_q2                 404290\n",
       "common_word                 404290\n",
       "R                           404290\n",
       "simple_ratio                404290\n",
       "partial_ratio               404290\n",
       "token_sort_ratio            404290\n",
       "partial_token_sort_ratio    404290\n",
       "token_set_ratio             404290\n",
       "partial_token_set_ratio     404290\n",
       "QRatio                      404290\n",
       "UQRatio                     404290\n",
       "WRatio                      404290\n",
       "UWRatio                     404290\n",
       "wmd                         404290\n",
       "norm_wmd                    404290\n",
       "cosine_distance             402502\n",
       "cityblock_distance          404290\n",
       "jaccard_distance            403777\n",
       "canberra_distance           404290\n",
       "euclidean_distance          404290\n",
       "minkowski_distance          404290\n",
       "braycurtis_distance         403777\n",
       "skew_q1vec                  404290\n",
       "skew_q2vec                  404290\n",
       "kur_q1vec                   404290\n",
       "kur_q2vec                   404290\n",
       "dtype: int64"
      ]
     },
     "execution_count": 72,
     "metadata": {},
     "output_type": "execute_result"
    }
   ],
   "source": [
    "np.isfinite(X_train).sum()"
   ]
  },
  {
   "cell_type": "code",
   "execution_count": 8,
   "metadata": {},
   "outputs": [],
   "source": [
    "train_data = pd.read_pickle('train_data_raw.pkl')\n",
    "y = train_data['is_duplicate']\n",
    "y.head()\n",
    "y.to_pickle('train_target.pkl')"
   ]
  },
  {
   "cell_type": "markdown",
   "metadata": {},
   "source": [
    "# 1.ExtraTreesClassifier"
   ]
  },
  {
   "cell_type": "code",
   "execution_count": 34,
   "metadata": {},
   "outputs": [],
   "source": [
    "from sklearn.grid_search import GridSearchCV\n",
    "from sklearn.ensemble import ExtraTreesClassifier\n"
   ]
  },
  {
   "cell_type": "code",
   "execution_count": null,
   "metadata": {},
   "outputs": [
    {
     "name": "stdout",
     "output_type": "stream",
     "text": [
      "Fitting 10 folds for each of 10 candidates, totalling 100 fits\n",
      "[CV] n_estimators=100 ................................................\n",
      "[CV] ....................................... n_estimators=100 -  16.7s\n",
      "[CV] n_estimators=100 ................................................\n"
     ]
    },
    {
     "name": "stderr",
     "output_type": "stream",
     "text": [
      "[Parallel(n_jobs=1)]: Done   1 out of   1 | elapsed:   16.7s remaining:    0.0s\n"
     ]
    },
    {
     "name": "stdout",
     "output_type": "stream",
     "text": [
      "[CV] ....................................... n_estimators=100 -  17.5s\n",
      "[CV] n_estimators=100 ................................................\n",
      "[CV] ....................................... n_estimators=100 -  17.5s\n",
      "[CV] n_estimators=100 ................................................\n",
      "[CV] ....................................... n_estimators=100 -  17.2s\n",
      "[CV] n_estimators=100 ................................................\n",
      "[CV] ....................................... n_estimators=100 -  17.3s\n",
      "[CV] n_estimators=100 ................................................\n",
      "[CV] ....................................... n_estimators=100 -  17.8s\n",
      "[CV] n_estimators=100 ................................................\n",
      "[CV] ....................................... n_estimators=100 -  17.5s\n",
      "[CV] n_estimators=100 ................................................\n",
      "[CV] ....................................... n_estimators=100 -  17.6s\n",
      "[CV] n_estimators=100 ................................................\n",
      "[CV] ....................................... n_estimators=100 -  17.5s\n",
      "[CV] n_estimators=100 ................................................\n",
      "[CV] ....................................... n_estimators=100 -  18.1s\n",
      "[CV] n_estimators=200 ................................................\n",
      "[CV] ....................................... n_estimators=200 -  34.9s\n",
      "[CV] n_estimators=200 ................................................\n",
      "[CV] ....................................... n_estimators=200 -  35.6s\n",
      "[CV] n_estimators=200 ................................................\n",
      "[CV] ....................................... n_estimators=200 -  35.6s\n",
      "[CV] n_estimators=200 ................................................\n",
      "[CV] ....................................... n_estimators=200 -  34.7s\n",
      "[CV] n_estimators=200 ................................................\n",
      "[CV] ....................................... n_estimators=200 -  35.3s\n",
      "[CV] n_estimators=200 ................................................\n",
      "[CV] ....................................... n_estimators=200 -  35.2s\n",
      "[CV] n_estimators=200 ................................................\n",
      "[CV] ....................................... n_estimators=200 -  34.5s\n",
      "[CV] n_estimators=200 ................................................\n",
      "[CV] ....................................... n_estimators=200 -  35.0s\n",
      "[CV] n_estimators=200 ................................................\n",
      "[CV] ....................................... n_estimators=200 -  35.2s\n",
      "[CV] n_estimators=200 ................................................\n",
      "[CV] ....................................... n_estimators=200 -  35.4s\n",
      "[CV] n_estimators=300 ................................................\n",
      "[CV] ....................................... n_estimators=300 -  52.7s\n",
      "[CV] n_estimators=300 ................................................\n",
      "[CV] ....................................... n_estimators=300 -  52.2s\n",
      "[CV] n_estimators=300 ................................................\n",
      "[CV] ....................................... n_estimators=300 -  52.4s\n",
      "[CV] n_estimators=300 ................................................\n",
      "[CV] ....................................... n_estimators=300 -  52.0s\n",
      "[CV] n_estimators=300 ................................................\n",
      "[CV] ....................................... n_estimators=300 -  52.7s\n",
      "[CV] n_estimators=300 ................................................\n",
      "[CV] ....................................... n_estimators=300 -  51.8s\n",
      "[CV] n_estimators=300 ................................................\n",
      "[CV] ....................................... n_estimators=300 -  53.4s\n",
      "[CV] n_estimators=300 ................................................\n",
      "[CV] ....................................... n_estimators=300 -  52.7s\n",
      "[CV] n_estimators=300 ................................................\n",
      "[CV] ....................................... n_estimators=300 -  53.2s\n",
      "[CV] n_estimators=300 ................................................\n",
      "[CV] ....................................... n_estimators=300 -  52.5s\n",
      "[CV] n_estimators=400 ................................................\n",
      "[CV] ....................................... n_estimators=400 - 1.2min\n",
      "[CV] n_estimators=400 ................................................\n",
      "[CV] ....................................... n_estimators=400 - 1.2min\n",
      "[CV] n_estimators=400 ................................................\n",
      "[CV] ....................................... n_estimators=400 - 1.2min\n",
      "[CV] n_estimators=400 ................................................\n",
      "[CV] ....................................... n_estimators=400 - 1.2min\n",
      "[CV] n_estimators=400 ................................................\n",
      "[CV] ....................................... n_estimators=400 - 1.2min\n",
      "[CV] n_estimators=400 ................................................\n",
      "[CV] ....................................... n_estimators=400 - 1.2min\n",
      "[CV] n_estimators=400 ................................................\n",
      "[CV] ....................................... n_estimators=400 - 1.2min\n",
      "[CV] n_estimators=400 ................................................\n",
      "[CV] ....................................... n_estimators=400 - 1.2min\n",
      "[CV] n_estimators=400 ................................................\n",
      "[CV] ....................................... n_estimators=400 - 1.2min\n",
      "[CV] n_estimators=400 ................................................\n",
      "[CV] ....................................... n_estimators=400 - 1.2min\n",
      "[CV] n_estimators=500 ................................................\n",
      "[CV] ....................................... n_estimators=500 - 1.5min\n",
      "[CV] n_estimators=500 ................................................\n",
      "[CV] ....................................... n_estimators=500 - 1.5min\n",
      "[CV] n_estimators=500 ................................................\n",
      "[CV] ....................................... n_estimators=500 - 1.5min\n",
      "[CV] n_estimators=500 ................................................\n",
      "[CV] ....................................... n_estimators=500 - 1.5min\n",
      "[CV] n_estimators=500 ................................................\n",
      "[CV] ....................................... n_estimators=500 - 1.5min\n",
      "[CV] n_estimators=500 ................................................\n",
      "[CV] ....................................... n_estimators=500 - 1.5min\n",
      "[CV] n_estimators=500 ................................................\n",
      "[CV] ....................................... n_estimators=500 - 1.5min\n",
      "[CV] n_estimators=500 ................................................\n",
      "[CV] ....................................... n_estimators=500 - 1.5min\n",
      "[CV] n_estimators=500 ................................................\n",
      "[CV] ....................................... n_estimators=500 - 1.5min\n",
      "[CV] n_estimators=500 ................................................\n",
      "[CV] ....................................... n_estimators=500 - 1.5min\n",
      "[CV] n_estimators=600 ................................................\n",
      "[CV] ....................................... n_estimators=600 - 1.8min\n",
      "[CV] n_estimators=600 ................................................\n",
      "[CV] ....................................... n_estimators=600 - 1.8min\n",
      "[CV] n_estimators=600 ................................................\n",
      "[CV] ....................................... n_estimators=600 - 1.8min\n",
      "[CV] n_estimators=600 ................................................\n",
      "[CV] ....................................... n_estimators=600 - 1.7min\n",
      "[CV] n_estimators=600 ................................................\n",
      "[CV] ....................................... n_estimators=600 - 1.7min\n",
      "[CV] n_estimators=600 ................................................\n",
      "[CV] ....................................... n_estimators=600 - 1.7min\n",
      "[CV] n_estimators=600 ................................................\n",
      "[CV] ....................................... n_estimators=600 - 1.7min\n",
      "[CV] n_estimators=600 ................................................\n",
      "[CV] ....................................... n_estimators=600 - 1.7min\n",
      "[CV] n_estimators=600 ................................................\n",
      "[CV] ....................................... n_estimators=600 - 1.8min\n",
      "[CV] n_estimators=600 ................................................\n"
     ]
    },
    {
     "name": "stdout",
     "output_type": "stream",
     "text": [
      "[CV] ....................................... n_estimators=600 - 1.8min\n",
      "[CV] n_estimators=700 ................................................\n",
      "[CV] ....................................... n_estimators=700 - 2.1min\n",
      "[CV] n_estimators=700 ................................................\n",
      "[CV] ....................................... n_estimators=700 - 2.1min\n",
      "[CV] n_estimators=700 ................................................\n",
      "[CV] ....................................... n_estimators=700 - 2.1min\n",
      "[CV] n_estimators=700 ................................................\n",
      "[CV] ....................................... n_estimators=700 - 2.1min\n",
      "[CV] n_estimators=700 ................................................\n",
      "[CV] ....................................... n_estimators=700 - 2.1min\n",
      "[CV] n_estimators=700 ................................................\n",
      "[CV] ....................................... n_estimators=700 - 2.1min\n",
      "[CV] n_estimators=700 ................................................\n",
      "[CV] ....................................... n_estimators=700 - 2.1min\n",
      "[CV] n_estimators=700 ................................................\n",
      "[CV] ....................................... n_estimators=700 - 2.1min\n",
      "[CV] n_estimators=700 ................................................\n",
      "[CV] ....................................... n_estimators=700 - 2.1min\n",
      "[CV] n_estimators=700 ................................................\n",
      "[CV] ....................................... n_estimators=700 - 2.1min\n",
      "[CV] n_estimators=800 ................................................\n",
      "[CV] ....................................... n_estimators=800 - 2.4min\n",
      "[CV] n_estimators=800 ................................................\n",
      "[CV] ....................................... n_estimators=800 - 2.4min\n",
      "[CV] n_estimators=800 ................................................\n",
      "[CV] ....................................... n_estimators=800 - 2.4min\n",
      "[CV] n_estimators=800 ................................................\n",
      "[CV] ....................................... n_estimators=800 - 2.4min\n",
      "[CV] n_estimators=800 ................................................\n",
      "[CV] ....................................... n_estimators=800 - 2.4min\n",
      "[CV] n_estimators=800 ................................................\n",
      "[CV] ....................................... n_estimators=800 - 2.4min\n",
      "[CV] n_estimators=800 ................................................\n",
      "[CV] ....................................... n_estimators=800 - 2.4min\n",
      "[CV] n_estimators=800 ................................................\n",
      "[CV] ....................................... n_estimators=800 - 2.4min\n",
      "[CV] n_estimators=800 ................................................\n",
      "[CV] ....................................... n_estimators=800 - 7.3min\n",
      "[CV] n_estimators=800 ................................................\n",
      "[CV] ....................................... n_estimators=800 - 8.8min\n",
      "[CV] n_estimators=900 ................................................\n",
      "[CV] ....................................... n_estimators=900 -10.3min\n",
      "[CV] n_estimators=900 ................................................\n",
      "[CV] ....................................... n_estimators=900 -10.4min\n",
      "[CV] n_estimators=900 ................................................\n",
      "[CV] ....................................... n_estimators=900 -10.4min\n",
      "[CV] n_estimators=900 ................................................\n",
      "[CV] ....................................... n_estimators=900 -10.3min\n",
      "[CV] n_estimators=900 ................................................\n",
      "[CV] ....................................... n_estimators=900 - 9.9min\n",
      "[CV] n_estimators=900 ................................................\n",
      "[CV] ....................................... n_estimators=900 -10.2min\n",
      "[CV] n_estimators=900 ................................................\n",
      "[CV] ....................................... n_estimators=900 -10.3min\n",
      "[CV] n_estimators=900 ................................................\n",
      "[CV] ....................................... n_estimators=900 -10.2min\n",
      "[CV] n_estimators=900 ................................................\n",
      "[CV] ....................................... n_estimators=900 -10.1min\n",
      "[CV] n_estimators=900 ................................................\n",
      "[CV] ....................................... n_estimators=900 -10.3min\n",
      "[CV] n_estimators=1000 ...............................................\n",
      "[CV] ...................................... n_estimators=1000 -11.7min\n",
      "[CV] n_estimators=1000 ...............................................\n"
     ]
    }
   ],
   "source": [
    "clf_1_ETC = ExtraTreesClassifier(n_jobs=-1)\n",
    "gscv = GridSearchCV(estimator = clf_1_ETC, param_grid={'n_estimators':list(range(100,1001,100))} , scoring='neg_log_loss',cv=10,verbose=2)\n",
    "gscv.fit(X_train,y) \n",
    "print(gscv.grid_scores_) \n",
    "print(gscv.best_params_) \n",
    "print(gscv.best_score_) "
   ]
  },
  {
   "cell_type": "code",
   "execution_count": null,
   "metadata": {
    "collapsed": true
   },
   "outputs": [],
   "source": [
    "test_features_basic = pd.read_pickle('test_data_features_basic.pkl')\n",
    "test_features_fw = pd.read_pickle('test_data_features_fw.pkl')\n",
    "test_features_w2v = pd.read_pickle('test_data_features_w2v.pkl')\n",
    "test_features_magic = pd.read_pickle('test_data_features_magic.pkl')\n",
    "\n",
    "test_features = pd.concat([test_features_basic,test_features_fw,test_features_w2v,test_features_magic],axis = 1)\n"
   ]
  }
 ],
 "metadata": {
  "kernelspec": {
   "display_name": "Python 3",
   "language": "python",
   "name": "python3"
  },
  "language_info": {
   "codemirror_mode": {
    "name": "ipython",
    "version": 3
   },
   "file_extension": ".py",
   "mimetype": "text/x-python",
   "name": "python",
   "nbconvert_exporter": "python",
   "pygments_lexer": "ipython3",
   "version": "3.7.0"
  }
 },
 "nbformat": 4,
 "nbformat_minor": 2
}
