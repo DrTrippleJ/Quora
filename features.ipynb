{
 "cells": [
  {
   "cell_type": "code",
   "execution_count": 1,
   "metadata": {},
   "outputs": [],
   "source": [
    "import pandas as pd\n",
    "import numpy as np\n",
    "import seaborn as sns\n",
    "import matplotlib.pyplot as plt\n",
    "%matplotlib inline\n",
    "import gensim\n",
    "from fuzzywuzzy import fuzz\n",
    "from nltk.corpus import stopwords\n",
    "from tqdm import tqdm\n",
    "from scipy.stats import skew, kurtosis\n",
    "from scipy.spatial.distance import cosine, cityblock, jaccard, canberra, euclidean, minkowski, braycurtis\n",
    "from nltk import word_tokenize\n",
    "import re\n",
    "import concurrent.futures\n",
    "import time\n",
    "import pickle\n",
    "from collections import defaultdict\n",
    "\n",
    "import string"
   ]
  },
  {
   "cell_type": "code",
   "execution_count": 2,
   "metadata": {},
   "outputs": [
    {
     "name": "stderr",
     "output_type": "stream",
     "text": [
      "/home/ubuntu/anaconda3/lib/python3.7/site-packages/IPython/core/interactiveshell.py:3020: DtypeWarning: Columns (0) have mixed types. Specify dtype option on import or set low_memory=False.\n",
      "  interactivity=interactivity, compiler=compiler, result=result)\n"
     ]
    }
   ],
   "source": [
    "train_data_raw = pd.read_csv('/home/ubuntu/train.csv')\n",
    "test_data_raw = pd.read_csv('/home/ubuntu/test.csv')\n",
    "train_data_raw.to_pickle('train_data_raw.pkl')\n",
    "test_data_raw.to_pickle('test_data_raw.pkl')"
   ]
  },
  {
   "cell_type": "code",
   "execution_count": 3,
   "metadata": {},
   "outputs": [],
   "source": [
    "abbr_dict={\n",
    "\"ain't\": \"is not\", \"aren't\": \"are not\",\"can't\": \"cannot\", \n",
    "                   \"can't've\": \"cannot have\", \"'cause\": \"because\", \"could've\": \"could have\", \n",
    "                   \"couldn't\": \"could not\", \"couldn't've\": \"could not have\",\"didn't\": \"did not\", \n",
    "                   \"doesn't\": \"does not\", \"don't\": \"do not\", \"hadn't\": \"had not\", \n",
    "                   \"hadn't've\": \"had not have\", \"hasn't\": \"has not\", \"haven't\": \"have not\", \n",
    "                   \"he'd\": \"he would\", \"he'd've\": \"he would have\", \"he'll\": \"he will\", \n",
    "                   \"he'll've\": \"he he will have\", \"he's\": \"he is\", \"how'd\": \"how did\", \n",
    "                   \"how'd'y\": \"how do you\", \"how'll\": \"how will\", \"how's\": \"how is\", \n",
    "                   \"I'd\": \"I would\", \"I'd've\": \"I would have\", \"I'll\": \"I will\", \n",
    "                   \"I'll've\": \"I will have\",\"I'm\": \"I am\", \"I've\": \"I have\", \n",
    "                   \"i'd\": \"i would\", \"i'd've\": \"i would have\", \"i'll\": \"i will\", \n",
    "                   \"i'll've\": \"i will have\",\"i'm\": \"i am\", \"i've\": \"i have\", \n",
    "                   \"isn't\": \"is not\", \"it'd\": \"it would\", \"it'd've\": \"it would have\", \n",
    "                   \"it'll\": \"it will\", \"it'll've\": \"it will have\",\"it's\": \"it is\", \n",
    "                   \"let's\": \"let us\", \"ma'am\": \"madam\", \"mayn't\": \"may not\", \n",
    "                   \"might've\": \"might have\",\"mightn't\": \"might not\",\"mightn't've\": \"might not have\", \n",
    "                   \"must've\": \"must have\", \"mustn't\": \"must not\", \"mustn't've\": \"must not have\", \n",
    "                   \"needn't\": \"need not\", \"needn't've\": \"need not have\",\"o'clock\": \"of the clock\", \n",
    "                   \"oughtn't\": \"ought not\", \"oughtn't've\": \"ought not have\", \"shan't\": \"shall not\",\n",
    "                   \"sha'n't\": \"shall not\", \"shan't've\": \"shall not have\", \"she'd\": \"she would\", \n",
    "                   \"she'd've\": \"she would have\", \"she'll\": \"she will\", \"she'll've\": \"she will have\", \n",
    "                   \"she's\": \"she is\", \"should've\": \"should have\", \"shouldn't\": \"should not\", \n",
    "                   \"shouldn't've\": \"should not have\", \"so've\": \"so have\",\"so's\": \"so as\", \n",
    "                   \"this's\": \"this is\",\n",
    "                   \"that'd\": \"that would\", \"that'd've\": \"that would have\",\"that's\": \"that is\", \n",
    "                   \"there'd\": \"there would\", \"there'd've\": \"there would have\",\"there's\": \"there is\", \n",
    "                   \"they'd\": \"they would\", \"they'd've\": \"they would have\", \"they'll\": \"they will\", \n",
    "                   \"they'll've\": \"they will have\", \"they're\": \"they are\", \"they've\": \"they have\", \n",
    "                   \"to've\": \"to have\", \"wasn't\": \"was not\", \"we'd\": \"we would\", \n",
    "                   \"we'd've\": \"we would have\", \"we'll\": \"we will\", \"we'll've\": \"we will have\", \n",
    "                   \"we're\": \"we are\", \"we've\": \"we have\", \"weren't\": \"were not\", \n",
    "                   \"what'll\": \"what will\", \"what'll've\": \"what will have\", \"what're\": \"what are\", \n",
    "                   \"what's\": \"what is\", \"what've\": \"what have\", \"when's\": \"when is\", \n",
    "                   \"when've\": \"when have\", \"where'd\": \"where did\", \"where's\": \"where is\", \n",
    "                   \"where've\": \"where have\", \"who'll\": \"who will\", \"who'll've\": \"who will have\", \n",
    "                   \"who's\": \"who is\", \"who've\": \"who have\", \"why's\": \"why is\", \n",
    "                   \"why've\": \"why have\", \"will've\": \"will have\", \"won't\": \"will not\", \n",
    "                   \"won't've\": \"will not have\", \"would've\": \"would have\", \"wouldn't\": \"would not\", \n",
    "                   \"wouldn't've\": \"would not have\", \"y'all\": \"you all\", \"y'all'd\": \"you all would\",\n",
    "                   \"y'all'd've\": \"you all would have\",\"y'all're\": \"you all are\",\"y'all've\": \"you all have\",\n",
    "                   \"you'd\": \"you would\", \"you'd've\": \"you would have\", \"you'll\": \"you will\", \n",
    "                   \"you'll've\": \"you will have\", \"you're\": \"you are\", \"you've\": \"you have\" ,\n",
    "                   \"date of birth\" : \"DOB\" , \"birth date\" : \"DOB\" ,\"birthdate\" : \"DOB\",\n",
    "\n",
    "}\n",
    "\n",
    "def another_clean(s):\n",
    "    # Abreviations\n",
    "    s=s.replace('Assn.', 'Association')\n",
    "    s=s.replace('Mt.', 'Mount')\n",
    "    s=s.replace('Ave.', 'Avenue')\n",
    "    s=s.replace('St.', 'Street')\n",
    "    s=s.replace('Dept.', 'Department')\n",
    "    s=s.replace('No.', 'Number')\n",
    "    s=s.replace(' no.', ' Number')\n",
    "    s=s.replace('etc.', ' ')\n",
    "    s=s.replace(' vs ',' versus ')\n",
    "    s=s.replace(' vs. ',' versus ')\n",
    "    s=s.replace('btwn','between')\n",
    "    s=s.replace('Btwn','Between')\n",
    "    s=s.replace(' u ',' you ')\n",
    "    \n",
    "    #Noms propres, acronymes\n",
    "    s=re.sub(r'(the USA)(?=[^a-zA-Z])',\"America\", s)\n",
    "    s=re.sub(r'(the U.S.A.)(?=[^a-zA-Z])',\"America\", s)\n",
    "    s=re.sub(r'(The U.S.A)(?=[^a-zA-Z])',\"America\", s)\n",
    "    s=re.sub(r'(The U.S)(?=[^a-zA-Z])',\"America\", s)\n",
    "    s=re.sub(r'(the US)(?=[^a-zA-Z])',\"America\", s)\n",
    "    s=re.sub(r'(the U.S)(?=[^a-zA-Z])',\"America\", s)\n",
    "    s=re.sub(r'(The U.S)(?=[^a-zA-Z])',\"America\", s)\n",
    "    s=re.sub(r'(The U.S)(?=[^a-zA-Z])',\"America\", s)\n",
    "    s=s.replace('United States of America', 'America')\n",
    "    s=s.replace('United States', 'America')\n",
    "    s=s.replace('World Trade Organization', 'WTO')\n",
    "    s=re.sub(r'( UK)(?=[^a-zA-Z])',\" United Kingdom\", s)\n",
    "    s=re.sub(r'( uk)(?=[^a-zA-Z])',\" United Kingdom\", s)\n",
    "    s=s.replace('date of birth', 'DOB')\n",
    "    s=s.replace('birth date','DOB')\n",
    "    s=s.replace('birthdate','DOB')\n",
    "    s=s.replace('M.Sc.','MSc')\n",
    "    s=s.replace('B.Sc.','BSc')\n",
    "    s=s.replace('B. Tech.','BTech')\n",
    "    s=s.replace('Master of Science','MSc')\n",
    "    s=s.replace('Bachelor of Science','BSc')\n",
    "    s=s.replace('Bachelor of Technology','BTech')\n",
    "    s=s.replace('Master of science','MSc')\n",
    "    s=s.replace('Bachelor of science','BSc')\n",
    "    s=s.replace('Bachelor of technology','BTech')\n",
    "    s=s.replace('Ph.D.','PhD')\n",
    "    s=s.replace('Ph.D','PhD')\n",
    "    s=s.replace('doctorate','PhD')\n",
    "    s=s.replace('New York','New-York')\n",
    "    s=s.replace(' NY ',' New-York ')\n",
    "    s=s.replace('Los Angeles','Los-Angeles')\n",
    "    s=s.replace(' LA ',' Los-Angeles ')\n",
    "    s=s.replace('San Francisco','San-Francisco')\n",
    "    s=s.replace('United Nations','UN')\n",
    "    s=s.replace('UPSC','civil service')\n",
    "    s=s.replace('IAS','civil service')\n",
    "    s=s.replace('upsc','civil service')\n",
    "    s=s.replace('ias','civil service')\n",
    "    s=s.replace('Orange is the New Black','OITNB')\n",
    "    s=s.replace('World War III','WW3')\n",
    "    s=s.replace('World War 3','WW3')\n",
    "    s=s.replace('WWIII','WW3')\n",
    "    s=s.replace('World War II','WW2')\n",
    "    s=s.replace('World War 2','WW2')\n",
    "    s=s.replace('WWII','WW2')\n",
    "    s=s.replace('World War I','WW1')\n",
    "    s=s.replace('World War 1','WW1')\n",
    "    s=s.replace('WWI','WW1')\n",
    "    s=s.replace('Third World War','WW3')\n",
    "    s=s.replace('third world war','WW3')\n",
    "    s=s.replace('Third world war','WW3')\n",
    "    s=s.replace('Second World War','WW2')\n",
    "    s=s.replace('second world war','WW2')\n",
    "    s=s.replace('Second world war','WW2')\n",
    "    s=s.replace('World War I','WW1')\n",
    "    s=s.replace('World War 1','WW1')\n",
    "    s=s.replace('WWI','WW1')\n",
    "    s=s.replace('1st',\"first\")\n",
    "    s=s.replace('2nd',\"second\")\n",
    "    s=s.replace('3rd',\"third\")\n",
    "    s=s.replace('4th',\"fourth\")\n",
    "    s=s.replace('5th',\"fifth\")\n",
    "    s=s.replace('6th',\"sixth\")\n",
    "    s=s.replace('7th',\"seventh\")\n",
    "    s=s.replace('8th',\"eighth\")\n",
    "    s=s.replace('9th',\"nineth\")\n",
    "    s=s.replace('Wat ', 'What')\n",
    "    s=s.replace(\"(^|\\W)\\d+($|\\W)\", \" \")\n",
    "    return s\n",
    "\n",
    "table = str.maketrans(dict.fromkeys(string.punctuation))\n",
    "\n",
    "\n",
    "def preprocessing(question):\n",
    "    #print question\n",
    "    question=str(question).lower()\n",
    "    for item in abbr_dict.items():\n",
    "        question=question.replace(item[0],item[1])\n",
    "        question = another_clean(question)\n",
    "    #print question\n",
    "    question=question.translate(table)\n",
    "    #question=re.sub(r'[^\\x00-\\xff]+','non-english',question.decode('utf-8'))\n",
    "    return str(question)\n"
   ]
  },
  {
   "cell_type": "code",
   "execution_count": 4,
   "metadata": {},
   "outputs": [
    {
     "data": {
      "text/html": [
       "<div>\n",
       "<style scoped>\n",
       "    .dataframe tbody tr th:only-of-type {\n",
       "        vertical-align: middle;\n",
       "    }\n",
       "\n",
       "    .dataframe tbody tr th {\n",
       "        vertical-align: top;\n",
       "    }\n",
       "\n",
       "    .dataframe thead th {\n",
       "        text-align: right;\n",
       "    }\n",
       "</style>\n",
       "<table border=\"1\" class=\"dataframe\">\n",
       "  <thead>\n",
       "    <tr style=\"text-align: right;\">\n",
       "      <th></th>\n",
       "      <th>id</th>\n",
       "      <th>qid1</th>\n",
       "      <th>qid2</th>\n",
       "      <th>question1</th>\n",
       "      <th>question2</th>\n",
       "      <th>is_duplicate</th>\n",
       "    </tr>\n",
       "  </thead>\n",
       "  <tbody>\n",
       "    <tr>\n",
       "      <th>0</th>\n",
       "      <td>0</td>\n",
       "      <td>1</td>\n",
       "      <td>2</td>\n",
       "      <td>What is the step by step guide to invest in sh...</td>\n",
       "      <td>What is the step by step guide to invest in sh...</td>\n",
       "      <td>0</td>\n",
       "    </tr>\n",
       "    <tr>\n",
       "      <th>1</th>\n",
       "      <td>1</td>\n",
       "      <td>3</td>\n",
       "      <td>4</td>\n",
       "      <td>What is the story of Kohinoor (Koh-i-Noor) Dia...</td>\n",
       "      <td>What would happen if the Indian government sto...</td>\n",
       "      <td>0</td>\n",
       "    </tr>\n",
       "    <tr>\n",
       "      <th>2</th>\n",
       "      <td>2</td>\n",
       "      <td>5</td>\n",
       "      <td>6</td>\n",
       "      <td>How can I increase the speed of my internet co...</td>\n",
       "      <td>How can Internet speed be increased by hacking...</td>\n",
       "      <td>0</td>\n",
       "    </tr>\n",
       "    <tr>\n",
       "      <th>3</th>\n",
       "      <td>3</td>\n",
       "      <td>7</td>\n",
       "      <td>8</td>\n",
       "      <td>Why am I mentally very lonely? How can I solve...</td>\n",
       "      <td>Find the remainder when [math]23^{24}[/math] i...</td>\n",
       "      <td>0</td>\n",
       "    </tr>\n",
       "    <tr>\n",
       "      <th>4</th>\n",
       "      <td>4</td>\n",
       "      <td>9</td>\n",
       "      <td>10</td>\n",
       "      <td>Which one dissolve in water quikly sugar, salt...</td>\n",
       "      <td>Which fish would survive in salt water?</td>\n",
       "      <td>0</td>\n",
       "    </tr>\n",
       "  </tbody>\n",
       "</table>\n",
       "</div>"
      ],
      "text/plain": [
       "   id  qid1  qid2                                          question1  \\\n",
       "0   0     1     2  What is the step by step guide to invest in sh...   \n",
       "1   1     3     4  What is the story of Kohinoor (Koh-i-Noor) Dia...   \n",
       "2   2     5     6  How can I increase the speed of my internet co...   \n",
       "3   3     7     8  Why am I mentally very lonely? How can I solve...   \n",
       "4   4     9    10  Which one dissolve in water quikly sugar, salt...   \n",
       "\n",
       "                                           question2  is_duplicate  \n",
       "0  What is the step by step guide to invest in sh...             0  \n",
       "1  What would happen if the Indian government sto...             0  \n",
       "2  How can Internet speed be increased by hacking...             0  \n",
       "3  Find the remainder when [math]23^{24}[/math] i...             0  \n",
       "4            Which fish would survive in salt water?             0  "
      ]
     },
     "execution_count": 4,
     "metadata": {},
     "output_type": "execute_result"
    }
   ],
   "source": [
    "train_data_raw.head()"
   ]
  },
  {
   "cell_type": "code",
   "execution_count": 5,
   "metadata": {},
   "outputs": [
    {
     "data": {
      "text/html": [
       "<div>\n",
       "<style scoped>\n",
       "    .dataframe tbody tr th:only-of-type {\n",
       "        vertical-align: middle;\n",
       "    }\n",
       "\n",
       "    .dataframe tbody tr th {\n",
       "        vertical-align: top;\n",
       "    }\n",
       "\n",
       "    .dataframe thead th {\n",
       "        text-align: right;\n",
       "    }\n",
       "</style>\n",
       "<table border=\"1\" class=\"dataframe\">\n",
       "  <thead>\n",
       "    <tr style=\"text-align: right;\">\n",
       "      <th></th>\n",
       "      <th>test_id</th>\n",
       "      <th>question1</th>\n",
       "      <th>question2</th>\n",
       "    </tr>\n",
       "  </thead>\n",
       "  <tbody>\n",
       "    <tr>\n",
       "      <th>0</th>\n",
       "      <td>0</td>\n",
       "      <td>How does the Surface Pro himself 4 compare wit...</td>\n",
       "      <td>Why did Microsoft choose core m3 and not core ...</td>\n",
       "    </tr>\n",
       "    <tr>\n",
       "      <th>1</th>\n",
       "      <td>1</td>\n",
       "      <td>Should I have a hair transplant at age 24? How...</td>\n",
       "      <td>How much cost does hair transplant require?</td>\n",
       "    </tr>\n",
       "    <tr>\n",
       "      <th>2</th>\n",
       "      <td>2</td>\n",
       "      <td>What but is the best way to send money from Ch...</td>\n",
       "      <td>What you send money to China?</td>\n",
       "    </tr>\n",
       "    <tr>\n",
       "      <th>3</th>\n",
       "      <td>3</td>\n",
       "      <td>Which food not emulsifiers?</td>\n",
       "      <td>What foods fibre?</td>\n",
       "    </tr>\n",
       "    <tr>\n",
       "      <th>4</th>\n",
       "      <td>4</td>\n",
       "      <td>How \"aberystwyth\" start reading?</td>\n",
       "      <td>How their can I start reading?</td>\n",
       "    </tr>\n",
       "  </tbody>\n",
       "</table>\n",
       "</div>"
      ],
      "text/plain": [
       "  test_id                                          question1  \\\n",
       "0       0  How does the Surface Pro himself 4 compare wit...   \n",
       "1       1  Should I have a hair transplant at age 24? How...   \n",
       "2       2  What but is the best way to send money from Ch...   \n",
       "3       3                        Which food not emulsifiers?   \n",
       "4       4                   How \"aberystwyth\" start reading?   \n",
       "\n",
       "                                           question2  \n",
       "0  Why did Microsoft choose core m3 and not core ...  \n",
       "1        How much cost does hair transplant require?  \n",
       "2                      What you send money to China?  \n",
       "3                                  What foods fibre?  \n",
       "4                     How their can I start reading?  "
      ]
     },
     "execution_count": 5,
     "metadata": {},
     "output_type": "execute_result"
    }
   ],
   "source": [
    "test_data_raw.head()"
   ]
  },
  {
   "cell_type": "code",
   "execution_count": 6,
   "metadata": {},
   "outputs": [
    {
     "name": "stdout",
     "output_type": "stream",
     "text": [
      "Time used: 321.60658621788025\n"
     ]
    }
   ],
   "source": [
    "#对train.csv中的语句进行预处理\n",
    "start = time.time()\n",
    "\n",
    "with concurrent.futures.ProcessPoolExecutor() as executor:\n",
    "    text_train_q1 = executor.map(preprocessing,train_data_raw['question1'].tolist())\n",
    "    text_train_q2 = executor.map(preprocessing,train_data_raw['question2'].tolist())\n",
    "    text_train_q1_lst = list(text_train_q1)\n",
    "    text_train_q2_lst = list(text_train_q2)\n",
    "    \n",
    "\n",
    "temp = pd.DataFrame({'q1':text_train_q1_lst,'q2':text_train_q2_lst})\n",
    "train_data = pd.DataFrame()\n",
    "train_data['train_id'] = train_data_raw['id']\n",
    "train_data = pd.concat([train_data,temp],axis=1)\n",
    "\n",
    "\n",
    "elapsed = (time.time() - start)\n",
    "print(\"Time used:\",elapsed)"
   ]
  },
  {
   "cell_type": "code",
   "execution_count": 7,
   "metadata": {},
   "outputs": [
    {
     "data": {
      "text/html": [
       "<div>\n",
       "<style scoped>\n",
       "    .dataframe tbody tr th:only-of-type {\n",
       "        vertical-align: middle;\n",
       "    }\n",
       "\n",
       "    .dataframe tbody tr th {\n",
       "        vertical-align: top;\n",
       "    }\n",
       "\n",
       "    .dataframe thead th {\n",
       "        text-align: right;\n",
       "    }\n",
       "</style>\n",
       "<table border=\"1\" class=\"dataframe\">\n",
       "  <thead>\n",
       "    <tr style=\"text-align: right;\">\n",
       "      <th></th>\n",
       "      <th>train_id</th>\n",
       "      <th>q1</th>\n",
       "      <th>q2</th>\n",
       "    </tr>\n",
       "  </thead>\n",
       "  <tbody>\n",
       "    <tr>\n",
       "      <th>0</th>\n",
       "      <td>0</td>\n",
       "      <td>what is the step by step guide to invest in sh...</td>\n",
       "      <td>what is the step by step guide to invest in sh...</td>\n",
       "    </tr>\n",
       "    <tr>\n",
       "      <th>1</th>\n",
       "      <td>1</td>\n",
       "      <td>what is the story of kohinoor kohinoor diamond</td>\n",
       "      <td>what would happen if the indian government sto...</td>\n",
       "    </tr>\n",
       "    <tr>\n",
       "      <th>2</th>\n",
       "      <td>2</td>\n",
       "      <td>how can i increase the speed of my internet co...</td>\n",
       "      <td>how can internet speed be increased by hacking...</td>\n",
       "    </tr>\n",
       "    <tr>\n",
       "      <th>3</th>\n",
       "      <td>3</td>\n",
       "      <td>why am i mentally very lonely how can i solve it</td>\n",
       "      <td>find the remainder when math2324math is divide...</td>\n",
       "    </tr>\n",
       "    <tr>\n",
       "      <th>4</th>\n",
       "      <td>4</td>\n",
       "      <td>which one dissolve in water quikly sugar salt ...</td>\n",
       "      <td>which fish would survive in salt water</td>\n",
       "    </tr>\n",
       "  </tbody>\n",
       "</table>\n",
       "</div>"
      ],
      "text/plain": [
       "   train_id                                                 q1  \\\n",
       "0         0  what is the step by step guide to invest in sh...   \n",
       "1         1     what is the story of kohinoor kohinoor diamond   \n",
       "2         2  how can i increase the speed of my internet co...   \n",
       "3         3   why am i mentally very lonely how can i solve it   \n",
       "4         4  which one dissolve in water quikly sugar salt ...   \n",
       "\n",
       "                                                  q2  \n",
       "0  what is the step by step guide to invest in sh...  \n",
       "1  what would happen if the indian government sto...  \n",
       "2  how can internet speed be increased by hacking...  \n",
       "3  find the remainder when math2324math is divide...  \n",
       "4             which fish would survive in salt water  "
      ]
     },
     "execution_count": 7,
     "metadata": {},
     "output_type": "execute_result"
    }
   ],
   "source": [
    "train_data.head()"
   ]
  },
  {
   "cell_type": "code",
   "execution_count": 8,
   "metadata": {},
   "outputs": [],
   "source": [
    "train_data.to_pickle('train_data_processed.pkl')"
   ]
  },
  {
   "cell_type": "markdown",
   "metadata": {},
   "source": [
    "# basic feature"
   ]
  },
  {
   "cell_type": "code",
   "execution_count": 9,
   "metadata": {},
   "outputs": [
    {
     "name": "stdout",
     "output_type": "stream",
     "text": [
      "Time used: 45.16831350326538\n"
     ]
    }
   ],
   "source": [
    "start = time.time()\n",
    "train_data_features_basic = pd.DataFrame()\n",
    "train_data_features_basic['len_q1'] = train_data['q1'].apply(lambda x:len(x))\n",
    "train_data_features_basic['len_q2'] = train_data['q2'].apply(lambda x:len(x))\n",
    "train_data_features_basic['diff_len'] = train_data_features_basic['len_q1'] - train_data_features_basic['len_q2']\n",
    "train_data_features_basic['len_char_q1'] = train_data.q1.apply(lambda x:len(set(x.replace(' ',''))))\n",
    "train_data_features_basic['len_char_q2'] = train_data.q2.apply(lambda x:len(set(x.replace(' ',''))))\n",
    "train_data_features_basic['len_word_q1'] = train_data.q1.apply(lambda x:len(x.split()))\n",
    "train_data_features_basic['len_word_q2'] = train_data.q2.apply(lambda x:len(x.split()))\n",
    "train_data_features_basic['common_word'] = train_data.apply(lambda x: \n",
    "        len(set(x['q1'].split()) & set(x['q2'].translate(table).lower().split())),axis = 1)\n",
    "stop_words = stopwords.words('english')\n",
    "def word_match_share(row):\n",
    "    q1words = {}\n",
    "    q2words = {}\n",
    "    for word in row['q1'].split():\n",
    "        if word not in stop_words:\n",
    "            q1words[word] = 1\n",
    "    for word in row['q2'].split():\n",
    "        if word not in stop_words:\n",
    "            q2words[word] = 1\n",
    "    if len(q1words) == 0 or len(q2words) == 0:\n",
    "        # The computer-generated chaff includes a few questions that are nothing but stopwords\n",
    "        return 0\n",
    "    shared_words_in_q1 = [w for w in q1words.keys() if w in q2words]\n",
    "    shared_words_in_q2 = [w for w in q2words.keys() if w in q1words]\n",
    "    R = (len(shared_words_in_q1) + len(shared_words_in_q2))*1.0/(len(q1words) + len(q2words))\n",
    "    return R\n",
    "\n",
    "train_data_features_basic['R']=train_data.apply(lambda x : word_match_share(x), axis=1)\n",
    "train_data_features_basic.to_pickle('train_data_features_basic.pkl')\n",
    "\n",
    "elapsed = (time.time() - start)\n",
    "print(\"Time used:\",elapsed)\n"
   ]
  },
  {
   "cell_type": "markdown",
   "metadata": {
    "collapsed": true
   },
   "source": [
    "# fuzzywuzzy"
   ]
  },
  {
   "cell_type": "code",
   "execution_count": 19,
   "metadata": {},
   "outputs": [
    {
     "name": "stdout",
     "output_type": "stream",
     "text": [
      "Time used: 453.29890727996826\n"
     ]
    }
   ],
   "source": [
    "start = time.time()\n",
    "train_data_features_fw = pd.DataFrame()\n",
    "train_data_features_fw['simple_ratio'] = train_data.apply(lambda x:fuzz.ratio(x['q1'],x['q2']),axis = 1)\n",
    "train_data_features_fw['partial_ratio'] = train_data.apply(lambda x:fuzz.partial_ratio(x['q1'],x['q2']),axis = 1)\n",
    "train_data_features_fw['token_sort_ratio'] = train_data.apply(lambda x:fuzz.token_sort_ratio(x['q1'],x['q2']),axis = 1)\n",
    "train_data_features_fw['partial_token_sort_ratio'] = train_data.apply(lambda x:fuzz.partial_token_sort_ratio(x['q1'],x['q2']),axis = 1)\n",
    "train_data_features_fw['token_set_ratio'] = train_data.apply(lambda x:fuzz.token_set_ratio(x['q1'],x['q2']),axis = 1)\n",
    "train_data_features_fw['partial_token_set_ratio'] = train_data.apply(lambda x:fuzz.partial_token_set_ratio(x['q1'],x['q2']),axis = 1)\n",
    "train_data_features_fw['QRatio'] = train_data.apply(lambda x:fuzz.QRatio(x['q1'],x['q2']),axis = 1)\n",
    "train_data_features_fw['UQRatio'] = train_data.apply(lambda x:fuzz.UQRatio(x['q1'],x['q2']),axis = 1)\n",
    "train_data_features_fw['WRatio'] = train_data.apply(lambda x:fuzz.WRatio(x['q1'],x['q2']),axis = 1)\n",
    "train_data_features_fw['UWRatio'] = train_data.apply(lambda x:fuzz.UWRatio(x['q1'],x['q2']),axis = 1)\n",
    "train_data_features_fw.to_pickle('train_data_features_fw.pkl')\n",
    "elapsed = (time.time() - start)\n",
    "print(\"Time used:\",elapsed)\n"
   ]
  },
  {
   "cell_type": "markdown",
   "metadata": {},
   "source": [
    "# Word2Vec"
   ]
  },
  {
   "cell_type": "code",
   "execution_count": 3,
   "metadata": {},
   "outputs": [],
   "source": [
    "train_data = pd.read_pickle('train_data_processed.pkl')\n"
   ]
  },
  {
   "cell_type": "code",
   "execution_count": 4,
   "metadata": {},
   "outputs": [
    {
     "data": {
      "text/html": [
       "<div>\n",
       "<style>\n",
       "    .dataframe thead tr:only-child th {\n",
       "        text-align: right;\n",
       "    }\n",
       "\n",
       "    .dataframe thead th {\n",
       "        text-align: left;\n",
       "    }\n",
       "\n",
       "    .dataframe tbody tr th {\n",
       "        vertical-align: top;\n",
       "    }\n",
       "</style>\n",
       "<table border=\"1\" class=\"dataframe\">\n",
       "  <thead>\n",
       "    <tr style=\"text-align: right;\">\n",
       "      <th></th>\n",
       "      <th>train_id</th>\n",
       "      <th>q1</th>\n",
       "      <th>q2</th>\n",
       "    </tr>\n",
       "  </thead>\n",
       "  <tbody>\n",
       "    <tr>\n",
       "      <th>0</th>\n",
       "      <td>0</td>\n",
       "      <td>what is the step by step guide to invest in sh...</td>\n",
       "      <td>what is the step by step guide to invest in sh...</td>\n",
       "    </tr>\n",
       "    <tr>\n",
       "      <th>1</th>\n",
       "      <td>1</td>\n",
       "      <td>what is the story of kohinoor kohinoor diamond</td>\n",
       "      <td>what would happen if the indian government sto...</td>\n",
       "    </tr>\n",
       "    <tr>\n",
       "      <th>2</th>\n",
       "      <td>2</td>\n",
       "      <td>how can i increase the speed of my internet co...</td>\n",
       "      <td>how can internet speed be increased by hacking...</td>\n",
       "    </tr>\n",
       "    <tr>\n",
       "      <th>3</th>\n",
       "      <td>3</td>\n",
       "      <td>why am i mentally very lonely how can i solve it</td>\n",
       "      <td>find the remainder when math2324math is divide...</td>\n",
       "    </tr>\n",
       "    <tr>\n",
       "      <th>4</th>\n",
       "      <td>4</td>\n",
       "      <td>which one dissolve in water quikly sugar salt ...</td>\n",
       "      <td>which fish would survive in salt water</td>\n",
       "    </tr>\n",
       "  </tbody>\n",
       "</table>\n",
       "</div>"
      ],
      "text/plain": [
       "   train_id                                                 q1  \\\n",
       "0         0  what is the step by step guide to invest in sh...   \n",
       "1         1     what is the story of kohinoor kohinoor diamond   \n",
       "2         2  how can i increase the speed of my internet co...   \n",
       "3         3   why am i mentally very lonely how can i solve it   \n",
       "4         4  which one dissolve in water quikly sugar salt ...   \n",
       "\n",
       "                                                  q2  \n",
       "0  what is the step by step guide to invest in sh...  \n",
       "1  what would happen if the indian government sto...  \n",
       "2  how can internet speed be increased by hacking...  \n",
       "3  find the remainder when math2324math is divide...  \n",
       "4             which fish would survive in salt water  "
      ]
     },
     "execution_count": 4,
     "metadata": {},
     "output_type": "execute_result"
    }
   ],
   "source": [
    "train_data.head()"
   ]
  },
  {
   "cell_type": "code",
   "execution_count": 14,
   "metadata": {},
   "outputs": [],
   "source": [
    "start = time.time()\n",
    "stop_words = stopwords.words('english')\n",
    "def wmd(s1, s2):\n",
    "    s1 = str(s1).split()\n",
    "    s2 = str(s2).split()\n",
    "    stop_words = stopwords.words('english')\n",
    "    s1 = [w for w in s1 if w not in stop_words]\n",
    "    s2 = [w for w in s2 if w not in stop_words]\n",
    "    return model.wmdistance(s1, s2)\n",
    "\n",
    "\n",
    "def norm_wmd(s1, s2):\n",
    "    s1 = str(s1).split()\n",
    "    s2 = str(s2).split()\n",
    "    stop_words = stopwords.words('english')\n",
    "    s1 = [w for w in s1 if w not in stop_words]\n",
    "    s2 = [w for w in s2 if w not in stop_words]\n",
    "    return norm_model.wmdistance(s1, s2)\n",
    "\n",
    "\n",
    "def sent2vec(s):\n",
    "    words = str(s)#.decode('utf-8')\n",
    "    words = word_tokenize(words)\n",
    "    words = [w for w in words if not w in stop_words]\n",
    "    words = [w for w in words if w.isalpha()]\n",
    "    M = []\n",
    "    for w in words:\n",
    "        try:\n",
    "            M.append(model[w])\n",
    "        except:\n",
    "            continue\n",
    "    M = np.array(M)\n",
    "    v = M.sum(axis=0)\n",
    "    return v / np.sqrt((v ** 2).sum())\n"
   ]
  },
  {
   "cell_type": "code",
   "execution_count": 16,
   "metadata": {},
   "outputs": [
    {
     "name": "stdout",
     "output_type": "stream",
     "text": [
      "Time used: 998.3847367763519\n"
     ]
    }
   ],
   "source": [
    "start = time.time()\n",
    "train_data_features_w2v_1 = pd.DataFrame()\n",
    "model = gensim.models.KeyedVectors.load_word2vec_format('/home/ubuntu/GoogleNews-vectors-negative300.bin.gz', \n",
    "                                                        binary=True)\n",
    "train_data_features_w2v_1['wmd'] = train_data.apply(lambda x: wmd(x['q1'], x['q2']), axis=1)\n",
    "norm_model = gensim.models.KeyedVectors.load_word2vec_format('/home/ubuntu/GoogleNews-vectors-negative300.bin.gz', \n",
    "                                                        binary=True)\n",
    "norm_model.init_sims(replace=True)\n",
    "train_data_features_w2v_1['norm_wmd'] = train_data.apply(lambda x: norm_wmd(x['q1'], x['q2']), axis=1)\n",
    "\n",
    "train_data_features_w2v_1.to_pickle('train_data_features_w2v_1.pkl')\n",
    "elapsed = (time.time() - start)\n",
    "print(\"Time used:\",elapsed)"
   ]
  },
  {
   "cell_type": "code",
   "execution_count": 17,
   "metadata": {},
   "outputs": [
    {
     "name": "stderr",
     "output_type": "stream",
     "text": [
      "0it [00:00, ?it/s]/home/ubuntu/anaconda3/lib/python3.7/site-packages/ipykernel_launcher.py:34: RuntimeWarning: invalid value encountered in double_scalars\n",
      "404290it [01:26, 4688.48it/s]\n",
      "404290it [01:26, 4685.34it/s]"
     ]
    },
    {
     "name": "stdout",
     "output_type": "stream",
     "text": [
      "Time used: 172.52987217903137\n"
     ]
    },
    {
     "name": "stderr",
     "output_type": "stream",
     "text": [
      "\n"
     ]
    }
   ],
   "source": [
    "start = time.time()\n",
    "train_q1_vectors = np.zeros((train_data.shape[0], 300))\n",
    "error_count = 0\n",
    "\n",
    "# with concurrent.futures.ProcessPoolExecutor() as executor:\n",
    "#     aaa = executor.map(sent2vec,train_data.q1.values)\n",
    "#     train_q1_vectors = np.array(list(aaa))\n",
    "#     bbb = executor.map(sent2vec,train_data.q2.values)\n",
    "#     train_q2_vectors = np.array(list(bbb))\n",
    "    \n",
    "\n",
    "             \n",
    "             \n",
    "             \n",
    "for i, q in tqdm(enumerate(train_data.q1.values)):\n",
    "    train_q1_vectors[i, :] = sent2vec(q)\n",
    "\n",
    "train_q2_vectors  = np.zeros((train_data.shape[0], 300))\n",
    "for i, q in tqdm(enumerate(train_data.q2.values)):\n",
    "    train_q2_vectors[i, :] = sent2vec(q)\n",
    "    \n",
    "# with open('train_q1_vectors.pkl','wb') as file_1:\n",
    "#     np.save(file_1, train_q1_vectors)\n",
    "    \n",
    "# with open('train_q2_vectors.pkl','wb') as file_2:\n",
    "#     np.save(file_2, train_q2_vectors)\n",
    "    \n",
    "\n",
    "elapsed = (time.time() - start)\n",
    "print(\"Time used:\",elapsed)"
   ]
  },
  {
   "cell_type": "code",
   "execution_count": 18,
   "metadata": {},
   "outputs": [
    {
     "name": "stderr",
     "output_type": "stream",
     "text": [
      "/home/ubuntu/anaconda3/lib/python3.7/site-packages/scipy/spatial/distance.py:698: RuntimeWarning: invalid value encountered in double_scalars\n",
      "  dist = 1.0 - uv / np.sqrt(uu * vv)\n",
      "/home/ubuntu/anaconda3/lib/python3.7/site-packages/scipy/spatial/distance.py:853: RuntimeWarning: invalid value encountered in double_scalars\n",
      "  dist = np.double(unequal_nonzero.sum()) / np.double(nonzero.sum())\n",
      "/home/ubuntu/anaconda3/lib/python3.7/site-packages/scipy/spatial/distance.py:1138: RuntimeWarning: invalid value encountered in double_scalars\n",
      "  return l1_diff.sum() / l1_sum.sum()\n"
     ]
    },
    {
     "name": "stdout",
     "output_type": "stream",
     "text": [
      "Time used: 422.0957283973694\n"
     ]
    }
   ],
   "source": [
    "start = time.time()\n",
    "train_data_features_w2v_2 = pd.DataFrame()\n",
    "train_data_features_w2v_2['cosine_distance'] = [cosine(x, y) for (x, y) in zip(np.nan_to_num(train_q1_vectors),\n",
    "                                                          np.nan_to_num(train_q2_vectors))]\n",
    "\n",
    "\n",
    "train_data_features_w2v_2['cityblock_distance'] = [cityblock(x, y) for (x, y) in zip(np.nan_to_num(train_q1_vectors),\n",
    "                                                          np.nan_to_num(train_q2_vectors))]\n",
    "\n",
    "train_data_features_w2v_2['jaccard_distance'] = [jaccard(x, y) for (x, y) in zip(np.nan_to_num(train_q1_vectors),\n",
    "                                                          np.nan_to_num(train_q2_vectors))]\n",
    "\n",
    "train_data_features_w2v_2['canberra_distance'] = [canberra(x, y) for (x, y) in zip(np.nan_to_num(train_q1_vectors),\n",
    "                                                          np.nan_to_num(train_q2_vectors))]\n",
    "\n",
    "train_data_features_w2v_2['euclidean_distance'] = [euclidean(x, y) for (x, y) in zip(np.nan_to_num(train_q1_vectors),\n",
    "                                                          np.nan_to_num(train_q2_vectors))]\n",
    "\n",
    "train_data_features_w2v_2['minkowski_distance'] = [minkowski(x, y, 3) for (x, y) in zip(np.nan_to_num(train_q1_vectors),\n",
    "                                                          np.nan_to_num(train_q2_vectors))]\n",
    "\n",
    "train_data_features_w2v_2['braycurtis_distance'] = [braycurtis(x, y) for (x, y) in zip(np.nan_to_num(train_q1_vectors),\n",
    "                                                          np.nan_to_num(train_q2_vectors))]\n",
    "\n",
    "train_data_features_w2v_2['skew_q1vec'] = [skew(x) for x in np.nan_to_num(train_q1_vectors)]\n",
    "train_data_features_w2v_2['skew_q2vec'] = [skew(x) for x in np.nan_to_num(train_q2_vectors)]\n",
    "train_data_features_w2v_2['kur_q1vec'] = [kurtosis(x) for x in np.nan_to_num(train_q1_vectors)]\n",
    "train_data_features_w2v_2['kur_q2vec'] = [kurtosis(x) for x in np.nan_to_num(train_q2_vectors)]\n",
    "train_data_features_w2v_2.to_pickle('train_data_features_w2v_2.pkl')\n",
    "elapsed = (time.time() - start)\n",
    "print(\"Time used:\",elapsed)\n"
   ]
  },
  {
   "cell_type": "markdown",
   "metadata": {},
   "source": [
    "# 处理test data"
   ]
  },
  {
   "cell_type": "code",
   "execution_count": 20,
   "metadata": {},
   "outputs": [
    {
     "data": {
      "text/html": [
       "<div>\n",
       "<style scoped>\n",
       "    .dataframe tbody tr th:only-of-type {\n",
       "        vertical-align: middle;\n",
       "    }\n",
       "\n",
       "    .dataframe tbody tr th {\n",
       "        vertical-align: top;\n",
       "    }\n",
       "\n",
       "    .dataframe thead th {\n",
       "        text-align: right;\n",
       "    }\n",
       "</style>\n",
       "<table border=\"1\" class=\"dataframe\">\n",
       "  <thead>\n",
       "    <tr style=\"text-align: right;\">\n",
       "      <th></th>\n",
       "      <th>test_id</th>\n",
       "      <th>question1</th>\n",
       "      <th>question2</th>\n",
       "    </tr>\n",
       "  </thead>\n",
       "  <tbody>\n",
       "    <tr>\n",
       "      <th>0</th>\n",
       "      <td>0</td>\n",
       "      <td>How does the Surface Pro himself 4 compare wit...</td>\n",
       "      <td>Why did Microsoft choose core m3 and not core ...</td>\n",
       "    </tr>\n",
       "    <tr>\n",
       "      <th>1</th>\n",
       "      <td>1</td>\n",
       "      <td>Should I have a hair transplant at age 24? How...</td>\n",
       "      <td>How much cost does hair transplant require?</td>\n",
       "    </tr>\n",
       "    <tr>\n",
       "      <th>2</th>\n",
       "      <td>2</td>\n",
       "      <td>What but is the best way to send money from Ch...</td>\n",
       "      <td>What you send money to China?</td>\n",
       "    </tr>\n",
       "    <tr>\n",
       "      <th>3</th>\n",
       "      <td>3</td>\n",
       "      <td>Which food not emulsifiers?</td>\n",
       "      <td>What foods fibre?</td>\n",
       "    </tr>\n",
       "    <tr>\n",
       "      <th>4</th>\n",
       "      <td>4</td>\n",
       "      <td>How \"aberystwyth\" start reading?</td>\n",
       "      <td>How their can I start reading?</td>\n",
       "    </tr>\n",
       "  </tbody>\n",
       "</table>\n",
       "</div>"
      ],
      "text/plain": [
       "  test_id                                          question1  \\\n",
       "0       0  How does the Surface Pro himself 4 compare wit...   \n",
       "1       1  Should I have a hair transplant at age 24? How...   \n",
       "2       2  What but is the best way to send money from Ch...   \n",
       "3       3                        Which food not emulsifiers?   \n",
       "4       4                   How \"aberystwyth\" start reading?   \n",
       "\n",
       "                                           question2  \n",
       "0  Why did Microsoft choose core m3 and not core ...  \n",
       "1        How much cost does hair transplant require?  \n",
       "2                      What you send money to China?  \n",
       "3                                  What foods fibre?  \n",
       "4                     How their can I start reading?  "
      ]
     },
     "execution_count": 20,
     "metadata": {},
     "output_type": "execute_result"
    }
   ],
   "source": [
    "test_data_raw.head()"
   ]
  },
  {
   "cell_type": "code",
   "execution_count": 21,
   "metadata": {},
   "outputs": [
    {
     "name": "stdout",
     "output_type": "stream",
     "text": [
      "0\n",
      "Time used: 95.53794431686401\n",
      "1\n",
      "Time used: 96.30256247520447\n",
      "2\n",
      "Time used: 96.33521842956543\n",
      "3\n",
      "Time used: 96.08878135681152\n",
      "4\n",
      "Time used: 96.5361340045929\n",
      "5\n",
      "Time used: 96.56264090538025\n",
      "6\n",
      "Time used: 96.62726998329163\n",
      "7\n",
      "Time used: 96.38904643058777\n",
      "8\n",
      "Time used: 96.17015218734741\n",
      "9\n",
      "Time used: 95.47581839561462\n",
      "10\n",
      "Time used: 96.31942701339722\n",
      "11\n",
      "Time used: 97.18250703811646\n",
      "12\n",
      "Time used: 96.36827039718628\n",
      "13\n",
      "Time used: 96.32027339935303\n",
      "14\n",
      "Time used: 95.45679807662964\n",
      "15\n",
      "Time used: 96.37856388092041\n",
      "16\n",
      "Time used: 97.37309384346008\n",
      "17\n",
      "Time used: 96.26779580116272\n",
      "18\n",
      "Time used: 96.38499569892883\n",
      "19\n",
      "Time used: 95.27958846092224\n",
      "20\n",
      "Time used: 96.31280779838562\n",
      "21\n",
      "Time used: 96.4473614692688\n",
      "22\n",
      "Time used: 97.26343107223511\n",
      "23\n",
      "Time used: 96.60183596611023\n",
      "24\n",
      "Time used: 95.44789576530457\n",
      "25\n",
      "Time used: 96.29660320281982\n",
      "26\n",
      "Time used: 97.52471542358398\n",
      "27\n",
      "Time used: 96.28169703483582\n",
      "28\n",
      "Time used: 95.4722671508789\n",
      "29\n",
      "Time used: 96.24962830543518\n",
      "Time used: 2889.94522023201\n"
     ]
    }
   ],
   "source": [
    "start_all = time.time()\n",
    "total = len(test_data_raw.test_id)\n",
    "num = 30\n",
    "div = total//num\n",
    "for ii in range(num):\n",
    "    print(ii)\n",
    "    start = time.time()\n",
    "\n",
    "    with concurrent.futures.ProcessPoolExecutor() as executor:\n",
    "        \n",
    "        text_test_q1 = list(executor.map(preprocessing,test_data_raw['question1'][ii*div:(ii+1)*div].tolist()))\n",
    "        text_test_q2 = list(executor.map(preprocessing,test_data_raw['question2'][ii*div:(ii+1)*div].tolist()))\n",
    "\n",
    "        pd.DataFrame({'q1':text_test_q1,'q2':text_test_q2}).to_pickle('test_data_processed_'+str(ii)+'.pkl')\n",
    "    elapsed = (time.time() - start)\n",
    "    print(\"Time used:\",elapsed)\n",
    "        \n",
    "with concurrent.futures.ProcessPoolExecutor() as executor:\n",
    "    text_test_q1 = list(executor.map(preprocessing,test_data_raw['question1'][num*div:].tolist()))\n",
    "    text_test_q2 = list(executor.map(preprocessing,test_data_raw['question2'][num*div:].tolist()))\n",
    "\n",
    "pd.DataFrame({'q1':text_test_q1,'q2':text_test_q2}).to_pickle('test_data_processed_'+str(num)+'.pkl')\n",
    "elapsed = (time.time() - start_all)\n",
    "print(\"Time used:\",elapsed)"
   ]
  },
  {
   "cell_type": "code",
   "execution_count": 2,
   "metadata": {},
   "outputs": [],
   "source": [
    "train_data = pd.read_pickle('train_data_processed.pkl')\n",
    "test_data = pd.DataFrame()\n",
    "for ii in range(31):\n",
    "    aaa = pd.read_pickle('test_data_processed_'+str(ii)+'.pkl')\n",
    "    test_data = pd.concat([test_data,aaa],axis = 0)\n"
   ]
  },
  {
   "cell_type": "code",
   "execution_count": 3,
   "metadata": {},
   "outputs": [
    {
     "data": {
      "text/html": [
       "<div>\n",
       "<style scoped>\n",
       "    .dataframe tbody tr th:only-of-type {\n",
       "        vertical-align: middle;\n",
       "    }\n",
       "\n",
       "    .dataframe tbody tr th {\n",
       "        vertical-align: top;\n",
       "    }\n",
       "\n",
       "    .dataframe thead th {\n",
       "        text-align: right;\n",
       "    }\n",
       "</style>\n",
       "<table border=\"1\" class=\"dataframe\">\n",
       "  <thead>\n",
       "    <tr style=\"text-align: right;\">\n",
       "      <th></th>\n",
       "      <th>train_id</th>\n",
       "      <th>q1</th>\n",
       "      <th>q2</th>\n",
       "    </tr>\n",
       "  </thead>\n",
       "  <tbody>\n",
       "    <tr>\n",
       "      <th>0</th>\n",
       "      <td>0</td>\n",
       "      <td>what is the step by step guide to invest in sh...</td>\n",
       "      <td>what is the step by step guide to invest in sh...</td>\n",
       "    </tr>\n",
       "    <tr>\n",
       "      <th>1</th>\n",
       "      <td>1</td>\n",
       "      <td>what is the story of kohinoor kohinoor diamond</td>\n",
       "      <td>what would happen if the indian government sto...</td>\n",
       "    </tr>\n",
       "    <tr>\n",
       "      <th>2</th>\n",
       "      <td>2</td>\n",
       "      <td>how can i increase the speed of my internet co...</td>\n",
       "      <td>how can internet speed be increased by hacking...</td>\n",
       "    </tr>\n",
       "    <tr>\n",
       "      <th>3</th>\n",
       "      <td>3</td>\n",
       "      <td>why am i mentally very lonely how can i solve it</td>\n",
       "      <td>find the remainder when math2324math is divide...</td>\n",
       "    </tr>\n",
       "    <tr>\n",
       "      <th>4</th>\n",
       "      <td>4</td>\n",
       "      <td>which one dissolve in water quikly sugar salt ...</td>\n",
       "      <td>which fish would survive in salt water</td>\n",
       "    </tr>\n",
       "  </tbody>\n",
       "</table>\n",
       "</div>"
      ],
      "text/plain": [
       "   train_id                                                 q1  \\\n",
       "0         0  what is the step by step guide to invest in sh...   \n",
       "1         1     what is the story of kohinoor kohinoor diamond   \n",
       "2         2  how can i increase the speed of my internet co...   \n",
       "3         3   why am i mentally very lonely how can i solve it   \n",
       "4         4  which one dissolve in water quikly sugar salt ...   \n",
       "\n",
       "                                                  q2  \n",
       "0  what is the step by step guide to invest in sh...  \n",
       "1  what would happen if the indian government sto...  \n",
       "2  how can internet speed be increased by hacking...  \n",
       "3  find the remainder when math2324math is divide...  \n",
       "4             which fish would survive in salt water  "
      ]
     },
     "execution_count": 3,
     "metadata": {},
     "output_type": "execute_result"
    }
   ],
   "source": [
    "train_data.head()"
   ]
  },
  {
   "cell_type": "code",
   "execution_count": 4,
   "metadata": {},
   "outputs": [
    {
     "data": {
      "text/html": [
       "<div>\n",
       "<style scoped>\n",
       "    .dataframe tbody tr th:only-of-type {\n",
       "        vertical-align: middle;\n",
       "    }\n",
       "\n",
       "    .dataframe tbody tr th {\n",
       "        vertical-align: top;\n",
       "    }\n",
       "\n",
       "    .dataframe thead th {\n",
       "        text-align: right;\n",
       "    }\n",
       "</style>\n",
       "<table border=\"1\" class=\"dataframe\">\n",
       "  <thead>\n",
       "    <tr style=\"text-align: right;\">\n",
       "      <th></th>\n",
       "      <th>q1</th>\n",
       "      <th>q2</th>\n",
       "    </tr>\n",
       "  </thead>\n",
       "  <tbody>\n",
       "    <tr>\n",
       "      <th>0</th>\n",
       "      <td>how does the surface pro himself 4 compare wit...</td>\n",
       "      <td>why did microsoft choose core m3 and not core ...</td>\n",
       "    </tr>\n",
       "    <tr>\n",
       "      <th>1</th>\n",
       "      <td>should i have a hair transplant at age 24 how ...</td>\n",
       "      <td>how much cost does hair transplant require</td>\n",
       "    </tr>\n",
       "    <tr>\n",
       "      <th>2</th>\n",
       "      <td>what but is the best way to send money from ch...</td>\n",
       "      <td>what you send money to china</td>\n",
       "    </tr>\n",
       "    <tr>\n",
       "      <th>3</th>\n",
       "      <td>which food not emulsifiers</td>\n",
       "      <td>what foods fibre</td>\n",
       "    </tr>\n",
       "    <tr>\n",
       "      <th>4</th>\n",
       "      <td>how aberystwyth start reading</td>\n",
       "      <td>how their can i start reading</td>\n",
       "    </tr>\n",
       "  </tbody>\n",
       "</table>\n",
       "</div>"
      ],
      "text/plain": [
       "                                                  q1  \\\n",
       "0  how does the surface pro himself 4 compare wit...   \n",
       "1  should i have a hair transplant at age 24 how ...   \n",
       "2  what but is the best way to send money from ch...   \n",
       "3                         which food not emulsifiers   \n",
       "4                      how aberystwyth start reading   \n",
       "\n",
       "                                                  q2  \n",
       "0  why did microsoft choose core m3 and not core ...  \n",
       "1         how much cost does hair transplant require  \n",
       "2                       what you send money to china  \n",
       "3                                   what foods fibre  \n",
       "4                      how their can i start reading  "
      ]
     },
     "execution_count": 4,
     "metadata": {},
     "output_type": "execute_result"
    }
   ],
   "source": [
    "test_data.head()"
   ]
  },
  {
   "cell_type": "code",
   "execution_count": 5,
   "metadata": {},
   "outputs": [
    {
     "data": {
      "text/plain": [
       "(3563475, 2)"
      ]
     },
     "execution_count": 5,
     "metadata": {},
     "output_type": "execute_result"
    }
   ],
   "source": [
    "test_data."
   ]
  },
  {
   "cell_type": "code",
   "execution_count": 7,
   "metadata": {},
   "outputs": [],
   "source": [
    "df1 = train_data[['q1']].copy()\n",
    "df2 = train_data[['q2']].copy()\n",
    "df1_test = test_data[['q1']].copy()\n",
    "df2_test = test_data[['q2']].copy()\n",
    "\n",
    "df2.rename(columns = {'q2':'q1'},inplace=True)\n",
    "df2_test.rename(columns = {'q2':'q1'},inplace=True)\n",
    "\n",
    "train_questions = df1.append(df2)\n",
    "train_questions = train_questions.append(df1_test)\n",
    "train_questions = train_questions.append(df2_test)\n",
    "#train_questions.drop_duplicates(subset = ['qid1'],inplace=True)\n",
    "train_questions.drop_duplicates(subset = ['q1'],inplace=True)\n",
    "\n",
    "train_questions.reset_index(inplace=True,drop=True)\n",
    "questions_dict = pd.Series(train_questions.index.values,index=train_questions.q1.values).to_dict()\n",
    "train_cp = train_data.copy()\n",
    "test_cp = test_data.copy()\n",
    "train_cp.drop(['train_id'],axis=1,inplace=True)\n",
    "\n",
    "train_cp['is_duplicate'] = 1\n",
    "test_cp['is_duplicate'] = -1\n",
    "#test_cp.rename(columns={'test_id':'id'},inplace=True)\n",
    "comb = pd.concat([train_cp,test_cp])\n",
    "\n",
    "comb['q1_hash'] = comb['q1'].map(questions_dict)\n",
    "comb['q2_hash'] = comb['q2'].map(questions_dict)\n",
    "\n",
    "q1_vc = comb.q1_hash.value_counts().to_dict()\n",
    "q2_vc = comb.q2_hash.value_counts().to_dict()\n",
    "\n",
    "def try_apply_dict(x,dict_to_apply):\n",
    "    try:\n",
    "        return dict_to_apply[x]\n",
    "    except KeyError:\n",
    "        return 0\n",
    "#map to frequency space\n",
    "comb['q1_freq'] = comb['q1_hash'].map(lambda x: try_apply_dict(x,q1_vc) + try_apply_dict(x,q2_vc))\n",
    "comb['q2_freq'] = comb['q2_hash'].map(lambda x: try_apply_dict(x,q1_vc) + try_apply_dict(x,q2_vc))\n",
    "\n",
    "train_comb = comb[comb['is_duplicate'] >= 0][['q1_hash','q2_hash','q1_freq','q2_freq']]\n",
    "test_comb = comb[comb['is_duplicate'] < 0][['q1_hash','q2_hash','q1_freq','q2_freq']]\n",
    "\n",
    "train_comb.to_pickle('train_data_features_magic_v1.pkl')\n",
    "test_comb.to_pickle('test_data_features_magic_v1.pkl')"
   ]
  },
  {
   "cell_type": "code",
   "execution_count": null,
   "metadata": {},
   "outputs": [],
   "source": [
    "ques = pd.concat([train_data[['q1', 'q2']], \\\n",
    "        test_data[['q1', 'q2']]], axis=0).reset_index(drop='index')\n",
    "q_dict = defaultdict(set)\n",
    "for i in range(ques.shape[0]):\n",
    "        q_dict[ques.q1[i]].add(ques.q2[i])\n",
    "        q_dict[ques.q2[i]].add(ques.q1[i])\n",
    "        \n",
    "def q1_q2_intersect(row):\n",
    "    return(len(set(q_dict[row['q1']]).intersection(set(q_dict[row['q2']]))))\n",
    "\n",
    "train_features_magic_v2 = pd.DataFrame()\n",
    "test_features_magic_v2 = pd.DataFrame()\n",
    "train_features_magic_v2['q1_q2_intersect'] = train_data.apply(lambda x:q1_q2_intersect(x), axis=1)\n",
    "test_features_magic_v2['q1_q2_intersect'] = test_data.apply(lambda x:q1_q2_intersect(x), axis=1)\n",
    "\n",
    "train_features_magic_v2.to_pickle('train_data_features_magic_v2.pkl')\n",
    "test_features_magic_v2.to_pickle('test_data_features_magic_v2.pkl')"
   ]
  },
  {
   "cell_type": "code",
   "execution_count": 16,
   "metadata": {},
   "outputs": [],
   "source": [
    "train_features_magic_v2['q1_q2_intersect'] = train_data.apply(lambda x:q1_q2_intersect(x), axis=1)"
   ]
  },
  {
   "cell_type": "code",
   "execution_count": 18,
   "metadata": {},
   "outputs": [
    {
     "data": {
      "text/html": [
       "<div>\n",
       "<style scoped>\n",
       "    .dataframe tbody tr th:only-of-type {\n",
       "        vertical-align: middle;\n",
       "    }\n",
       "\n",
       "    .dataframe tbody tr th {\n",
       "        vertical-align: top;\n",
       "    }\n",
       "\n",
       "    .dataframe thead th {\n",
       "        text-align: right;\n",
       "    }\n",
       "</style>\n",
       "<table border=\"1\" class=\"dataframe\">\n",
       "  <thead>\n",
       "    <tr style=\"text-align: right;\">\n",
       "      <th></th>\n",
       "      <th>q1_q2_intersect</th>\n",
       "    </tr>\n",
       "  </thead>\n",
       "  <tbody>\n",
       "    <tr>\n",
       "      <th>0</th>\n",
       "      <td>0</td>\n",
       "    </tr>\n",
       "    <tr>\n",
       "      <th>1</th>\n",
       "      <td>0</td>\n",
       "    </tr>\n",
       "    <tr>\n",
       "      <th>2</th>\n",
       "      <td>0</td>\n",
       "    </tr>\n",
       "    <tr>\n",
       "      <th>3</th>\n",
       "      <td>0</td>\n",
       "    </tr>\n",
       "    <tr>\n",
       "      <th>4</th>\n",
       "      <td>0</td>\n",
       "    </tr>\n",
       "    <tr>\n",
       "      <th>5</th>\n",
       "      <td>0</td>\n",
       "    </tr>\n",
       "    <tr>\n",
       "      <th>6</th>\n",
       "      <td>0</td>\n",
       "    </tr>\n",
       "    <tr>\n",
       "      <th>7</th>\n",
       "      <td>0</td>\n",
       "    </tr>\n",
       "    <tr>\n",
       "      <th>8</th>\n",
       "      <td>1</td>\n",
       "    </tr>\n",
       "    <tr>\n",
       "      <th>9</th>\n",
       "      <td>0</td>\n",
       "    </tr>\n",
       "  </tbody>\n",
       "</table>\n",
       "</div>"
      ],
      "text/plain": [
       "   q1_q2_intersect\n",
       "0                0\n",
       "1                0\n",
       "2                0\n",
       "3                0\n",
       "4                0\n",
       "5                0\n",
       "6                0\n",
       "7                0\n",
       "8                1\n",
       "9                0"
      ]
     },
     "execution_count": 18,
     "metadata": {},
     "output_type": "execute_result"
    }
   ],
   "source": [
    "train_features_magic_v2.head(10)"
   ]
  },
  {
   "cell_type": "code",
   "execution_count": 19,
   "metadata": {},
   "outputs": [],
   "source": [
    "\n",
    "test_features_magic_v2['q1_q2_intersect'] = test_data.apply(lambda x:q1_q2_intersect(x), axis=1)\n",
    "\n",
    "train_features_magic_v2.to_pickle('train_data_features_magic_v2.pkl')\n",
    "test_features_magic_v2.to_pickle('test_data_features_magic_v2.pkl')"
   ]
  },
  {
   "cell_type": "code",
   "execution_count": 2,
   "metadata": {},
   "outputs": [],
   "source": [
    "stop_words = stopwords.words('english')\n",
    "def word_match_share(row):\n",
    "    q1words = {}\n",
    "    q2words = {}\n",
    "    for word in row['q1'].split():\n",
    "        if word not in stop_words:\n",
    "            q1words[word] = 1\n",
    "    for word in row['q2'].split():\n",
    "        if word not in stop_words:\n",
    "            q2words[word] = 1\n",
    "    if len(q1words) == 0 or len(q2words) == 0:\n",
    "        # The computer-generated chaff includes a few questions that are nothing but stopwords\n",
    "        return 0\n",
    "    shared_words_in_q1 = [w for w in q1words.keys() if w in q2words]\n",
    "    shared_words_in_q2 = [w for w in q2words.keys() if w in q1words]\n",
    "    R = (len(shared_words_in_q1) + len(shared_words_in_q2))*1.0/(len(q1words) + len(q2words))\n",
    "    return R\n",
    "\n",
    "\n",
    "def wmd(s1, s2):\n",
    "    s1 = str(s1).split()\n",
    "    s2 = str(s2).split()\n",
    "    stop_words = stopwords.words('english')\n",
    "    s1 = [w for w in s1 if w not in stop_words]\n",
    "    s2 = [w for w in s2 if w not in stop_words]\n",
    "    return model.wmdistance(s1, s2)\n",
    "\n",
    "\n",
    "def norm_wmd(s1, s2):\n",
    "    s1 = str(s1).split()\n",
    "    s2 = str(s2).split()\n",
    "    stop_words = stopwords.words('english')\n",
    "    s1 = [w for w in s1 if w not in stop_words]\n",
    "    s2 = [w for w in s2 if w not in stop_words]\n",
    "    return norm_model.wmdistance(s1, s2)\n",
    "\n",
    "\n",
    "def sent2vec(s):\n",
    "    words = str(s)#.decode('utf-8')\n",
    "    words = word_tokenize(words)\n",
    "    words = [w for w in words if not w in stop_words]\n",
    "    words = [w for w in words if w.isalpha()]\n",
    "    M = []\n",
    "    for w in words:\n",
    "        try:\n",
    "            M.append(model[w])\n",
    "        except:\n",
    "            continue\n",
    "    M = np.array(M)\n",
    "    v = M.sum(axis=0)\n",
    "    return v / np.sqrt((v ** 2).sum())\n",
    "\n",
    "model = gensim.models.KeyedVectors.load_word2vec_format('/home/ubuntu/GoogleNews-vectors-negative300.bin.gz', \n",
    "                                                        binary=True)\n",
    "norm_model = gensim.models.KeyedVectors.load_word2vec_format('/home/ubuntu/GoogleNews-vectors-negative300.bin.gz', \n",
    "                                                        binary=True)\n",
    "norm_model.init_sims(replace=True)\n",
    "table = str.maketrans(dict.fromkeys(string.punctuation))"
   ]
  },
  {
   "cell_type": "code",
   "execution_count": 3,
   "metadata": {},
   "outputs": [
    {
     "name": "stdout",
     "output_type": "stream",
     "text": [
      "0\n",
      "0Time used(basic): 12.809193849563599\n",
      "0Time used(fw): 141.9659698009491\n"
     ]
    },
    {
     "name": "stderr",
     "output_type": "stream",
     "text": [
      "0it [00:00, ?it/s]/home/ubuntu/anaconda3/lib/python3.7/site-packages/ipykernel_launcher.py:51: RuntimeWarning: invalid value encountered in double_scalars\n",
      "461it [00:00, 4602.40it/s]"
     ]
    },
    {
     "name": "stdout",
     "output_type": "stream",
     "text": [
      "0Time used(w2v_1): 222.02990746498108\n"
     ]
    },
    {
     "name": "stderr",
     "output_type": "stream",
     "text": [
      "118782it [00:24, 4832.49it/s]\n",
      "118782it [00:24, 4819.12it/s]\n"
     ]
    },
    {
     "name": "stdout",
     "output_type": "stream",
     "text": [
      "0Time used(w2v_2): 49.23145842552185\n"
     ]
    },
    {
     "name": "stderr",
     "output_type": "stream",
     "text": [
      "/home/ubuntu/anaconda3/lib/python3.7/site-packages/scipy/spatial/distance.py:698: RuntimeWarning: invalid value encountered in double_scalars\n",
      "  dist = 1.0 - uv / np.sqrt(uu * vv)\n",
      "/home/ubuntu/anaconda3/lib/python3.7/site-packages/scipy/spatial/distance.py:853: RuntimeWarning: invalid value encountered in double_scalars\n",
      "  dist = np.double(unequal_nonzero.sum()) / np.double(nonzero.sum())\n",
      "/home/ubuntu/anaconda3/lib/python3.7/site-packages/scipy/spatial/distance.py:1138: RuntimeWarning: invalid value encountered in double_scalars\n",
      "  return l1_diff.sum() / l1_sum.sum()\n"
     ]
    },
    {
     "name": "stdout",
     "output_type": "stream",
     "text": [
      "0Time used(w2v_3): 112.6771948337555\n",
      "1\n",
      "1Time used(basic): 12.69617748260498\n",
      "1Time used(fw): 143.51252102851868\n"
     ]
    },
    {
     "name": "stderr",
     "output_type": "stream",
     "text": [
      "0it [00:00, ?it/s]/home/ubuntu/anaconda3/lib/python3.7/site-packages/ipykernel_launcher.py:51: RuntimeWarning: invalid value encountered in double_scalars\n",
      "461it [00:00, 4599.85it/s]"
     ]
    },
    {
     "name": "stdout",
     "output_type": "stream",
     "text": [
      "1Time used(w2v_1): 223.64690613746643\n"
     ]
    },
    {
     "name": "stderr",
     "output_type": "stream",
     "text": [
      "118782it [00:24, 4817.47it/s]\n",
      "118782it [00:24, 4798.64it/s]\n"
     ]
    },
    {
     "name": "stdout",
     "output_type": "stream",
     "text": [
      "1Time used(w2v_2): 49.41470956802368\n"
     ]
    },
    {
     "name": "stderr",
     "output_type": "stream",
     "text": [
      "/home/ubuntu/anaconda3/lib/python3.7/site-packages/scipy/spatial/distance.py:698: RuntimeWarning: invalid value encountered in double_scalars\n",
      "  dist = 1.0 - uv / np.sqrt(uu * vv)\n",
      "/home/ubuntu/anaconda3/lib/python3.7/site-packages/scipy/spatial/distance.py:853: RuntimeWarning: invalid value encountered in double_scalars\n",
      "  dist = np.double(unequal_nonzero.sum()) / np.double(nonzero.sum())\n",
      "/home/ubuntu/anaconda3/lib/python3.7/site-packages/scipy/spatial/distance.py:1138: RuntimeWarning: invalid value encountered in double_scalars\n",
      "  return l1_diff.sum() / l1_sum.sum()\n"
     ]
    },
    {
     "name": "stdout",
     "output_type": "stream",
     "text": [
      "1Time used(w2v_3): 111.78919053077698\n",
      "2\n",
      "2Time used(basic): 12.877350568771362\n",
      "2Time used(fw): 142.65881729125977\n"
     ]
    },
    {
     "name": "stderr",
     "output_type": "stream",
     "text": [
      "0it [00:00, ?it/s]/home/ubuntu/anaconda3/lib/python3.7/site-packages/ipykernel_launcher.py:51: RuntimeWarning: invalid value encountered in double_scalars\n",
      "474it [00:00, 4737.64it/s]"
     ]
    },
    {
     "name": "stdout",
     "output_type": "stream",
     "text": [
      "2Time used(w2v_1): 222.79255318641663\n"
     ]
    },
    {
     "name": "stderr",
     "output_type": "stream",
     "text": [
      "118782it [00:24, 4869.04it/s]\n",
      "118782it [00:24, 4827.86it/s]\n"
     ]
    },
    {
     "name": "stdout",
     "output_type": "stream",
     "text": [
      "2Time used(w2v_2): 49.003456354141235\n"
     ]
    },
    {
     "name": "stderr",
     "output_type": "stream",
     "text": [
      "/home/ubuntu/anaconda3/lib/python3.7/site-packages/scipy/spatial/distance.py:698: RuntimeWarning: invalid value encountered in double_scalars\n",
      "  dist = 1.0 - uv / np.sqrt(uu * vv)\n",
      "/home/ubuntu/anaconda3/lib/python3.7/site-packages/scipy/spatial/distance.py:853: RuntimeWarning: invalid value encountered in double_scalars\n",
      "  dist = np.double(unequal_nonzero.sum()) / np.double(nonzero.sum())\n",
      "/home/ubuntu/anaconda3/lib/python3.7/site-packages/scipy/spatial/distance.py:1138: RuntimeWarning: invalid value encountered in double_scalars\n",
      "  return l1_diff.sum() / l1_sum.sum()\n"
     ]
    },
    {
     "name": "stdout",
     "output_type": "stream",
     "text": [
      "2Time used(w2v_3): 112.55412125587463\n",
      "3\n",
      "3Time used(basic): 12.759938955307007\n",
      "3Time used(fw): 142.12969303131104\n"
     ]
    },
    {
     "name": "stderr",
     "output_type": "stream",
     "text": [
      "0it [00:00, ?it/s]/home/ubuntu/anaconda3/lib/python3.7/site-packages/ipykernel_launcher.py:51: RuntimeWarning: invalid value encountered in double_scalars\n",
      "470it [00:00, 4697.15it/s]"
     ]
    },
    {
     "name": "stdout",
     "output_type": "stream",
     "text": [
      "3Time used(w2v_1): 222.84066724777222\n"
     ]
    },
    {
     "name": "stderr",
     "output_type": "stream",
     "text": [
      "118782it [00:24, 4784.21it/s]\n",
      "118782it [00:24, 4799.53it/s]\n"
     ]
    },
    {
     "name": "stdout",
     "output_type": "stream",
     "text": [
      "3Time used(w2v_2): 49.58151173591614\n"
     ]
    },
    {
     "name": "stderr",
     "output_type": "stream",
     "text": [
      "/home/ubuntu/anaconda3/lib/python3.7/site-packages/scipy/spatial/distance.py:698: RuntimeWarning: invalid value encountered in double_scalars\n",
      "  dist = 1.0 - uv / np.sqrt(uu * vv)\n",
      "/home/ubuntu/anaconda3/lib/python3.7/site-packages/scipy/spatial/distance.py:853: RuntimeWarning: invalid value encountered in double_scalars\n",
      "  dist = np.double(unequal_nonzero.sum()) / np.double(nonzero.sum())\n",
      "/home/ubuntu/anaconda3/lib/python3.7/site-packages/scipy/spatial/distance.py:1138: RuntimeWarning: invalid value encountered in double_scalars\n",
      "  return l1_diff.sum() / l1_sum.sum()\n"
     ]
    },
    {
     "name": "stdout",
     "output_type": "stream",
     "text": [
      "3Time used(w2v_3): 112.16429686546326\n",
      "4\n",
      "4Time used(basic): 12.847869157791138\n",
      "4Time used(fw): 142.73834037780762\n"
     ]
    },
    {
     "name": "stderr",
     "output_type": "stream",
     "text": [
      "0it [00:00, ?it/s]/home/ubuntu/anaconda3/lib/python3.7/site-packages/ipykernel_launcher.py:51: RuntimeWarning: invalid value encountered in double_scalars\n",
      "455it [00:00, 4542.87it/s]"
     ]
    },
    {
     "name": "stdout",
     "output_type": "stream",
     "text": [
      "4Time used(w2v_1): 222.41946601867676\n"
     ]
    },
    {
     "name": "stderr",
     "output_type": "stream",
     "text": [
      "118782it [00:24, 4815.20it/s]\n",
      "118782it [00:24, 4796.14it/s]\n"
     ]
    },
    {
     "name": "stdout",
     "output_type": "stream",
     "text": [
      "4Time used(w2v_2): 49.43954539299011\n"
     ]
    },
    {
     "name": "stderr",
     "output_type": "stream",
     "text": [
      "/home/ubuntu/anaconda3/lib/python3.7/site-packages/scipy/spatial/distance.py:698: RuntimeWarning: invalid value encountered in double_scalars\n",
      "  dist = 1.0 - uv / np.sqrt(uu * vv)\n",
      "/home/ubuntu/anaconda3/lib/python3.7/site-packages/scipy/spatial/distance.py:853: RuntimeWarning: invalid value encountered in double_scalars\n",
      "  dist = np.double(unequal_nonzero.sum()) / np.double(nonzero.sum())\n",
      "/home/ubuntu/anaconda3/lib/python3.7/site-packages/scipy/spatial/distance.py:1138: RuntimeWarning: invalid value encountered in double_scalars\n",
      "  return l1_diff.sum() / l1_sum.sum()\n"
     ]
    },
    {
     "name": "stdout",
     "output_type": "stream",
     "text": [
      "4Time used(w2v_3): 112.38455247879028\n",
      "5\n",
      "5Time used(basic): 12.609760046005249\n",
      "5Time used(fw): 141.54979515075684\n"
     ]
    },
    {
     "name": "stderr",
     "output_type": "stream",
     "text": [
      "0it [00:00, ?it/s]/home/ubuntu/anaconda3/lib/python3.7/site-packages/ipykernel_launcher.py:51: RuntimeWarning: invalid value encountered in double_scalars\n",
      "461it [00:00, 4601.64it/s]"
     ]
    },
    {
     "name": "stdout",
     "output_type": "stream",
     "text": [
      "5Time used(w2v_1): 221.62929511070251\n"
     ]
    },
    {
     "name": "stderr",
     "output_type": "stream",
     "text": [
      "118782it [00:24, 4861.40it/s]\n",
      "118782it [00:24, 4841.46it/s]\n"
     ]
    },
    {
     "name": "stdout",
     "output_type": "stream",
     "text": [
      "5Time used(w2v_2): 48.97419190406799\n"
     ]
    },
    {
     "name": "stderr",
     "output_type": "stream",
     "text": [
      "/home/ubuntu/anaconda3/lib/python3.7/site-packages/scipy/spatial/distance.py:698: RuntimeWarning: invalid value encountered in double_scalars\n",
      "  dist = 1.0 - uv / np.sqrt(uu * vv)\n",
      "/home/ubuntu/anaconda3/lib/python3.7/site-packages/scipy/spatial/distance.py:853: RuntimeWarning: invalid value encountered in double_scalars\n",
      "  dist = np.double(unequal_nonzero.sum()) / np.double(nonzero.sum())\n",
      "/home/ubuntu/anaconda3/lib/python3.7/site-packages/scipy/spatial/distance.py:1138: RuntimeWarning: invalid value encountered in double_scalars\n",
      "  return l1_diff.sum() / l1_sum.sum()\n"
     ]
    },
    {
     "name": "stdout",
     "output_type": "stream",
     "text": [
      "5Time used(w2v_3): 111.61448740959167\n",
      "6\n",
      "6Time used(basic): 12.592740535736084\n",
      "6Time used(fw): 142.60902786254883\n"
     ]
    },
    {
     "name": "stderr",
     "output_type": "stream",
     "text": [
      "0it [00:00, ?it/s]/home/ubuntu/anaconda3/lib/python3.7/site-packages/ipykernel_launcher.py:51: RuntimeWarning: invalid value encountered in double_scalars\n",
      "476it [00:00, 4758.19it/s]"
     ]
    },
    {
     "name": "stdout",
     "output_type": "stream",
     "text": [
      "6Time used(w2v_1): 220.75765562057495\n"
     ]
    },
    {
     "name": "stderr",
     "output_type": "stream",
     "text": [
      "118782it [00:24, 4867.89it/s]\n",
      "118782it [00:24, 4852.00it/s]\n"
     ]
    },
    {
     "name": "stdout",
     "output_type": "stream",
     "text": [
      "6Time used(w2v_2): 48.88671684265137\n"
     ]
    },
    {
     "name": "stderr",
     "output_type": "stream",
     "text": [
      "/home/ubuntu/anaconda3/lib/python3.7/site-packages/scipy/spatial/distance.py:698: RuntimeWarning: invalid value encountered in double_scalars\n",
      "  dist = 1.0 - uv / np.sqrt(uu * vv)\n",
      "/home/ubuntu/anaconda3/lib/python3.7/site-packages/scipy/spatial/distance.py:853: RuntimeWarning: invalid value encountered in double_scalars\n",
      "  dist = np.double(unequal_nonzero.sum()) / np.double(nonzero.sum())\n",
      "/home/ubuntu/anaconda3/lib/python3.7/site-packages/scipy/spatial/distance.py:1138: RuntimeWarning: invalid value encountered in double_scalars\n",
      "  return l1_diff.sum() / l1_sum.sum()\n"
     ]
    },
    {
     "name": "stdout",
     "output_type": "stream",
     "text": [
      "6Time used(w2v_3): 110.75211143493652\n",
      "7\n",
      "7Time used(basic): 12.676475286483765\n",
      "7Time used(fw): 142.1128385066986\n"
     ]
    },
    {
     "name": "stderr",
     "output_type": "stream",
     "text": [
      "0it [00:00, ?it/s]/home/ubuntu/anaconda3/lib/python3.7/site-packages/ipykernel_launcher.py:51: RuntimeWarning: invalid value encountered in double_scalars\n",
      "459it [00:00, 4582.92it/s]"
     ]
    },
    {
     "name": "stdout",
     "output_type": "stream",
     "text": [
      "7Time used(w2v_1): 221.20283436775208\n"
     ]
    },
    {
     "name": "stderr",
     "output_type": "stream",
     "text": [
      "118782it [00:24, 4861.06it/s]\n",
      "118782it [00:24, 4874.93it/s]\n"
     ]
    },
    {
     "name": "stdout",
     "output_type": "stream",
     "text": [
      "7Time used(w2v_2): 48.80666542053223\n"
     ]
    },
    {
     "name": "stderr",
     "output_type": "stream",
     "text": [
      "/home/ubuntu/anaconda3/lib/python3.7/site-packages/scipy/spatial/distance.py:698: RuntimeWarning: invalid value encountered in double_scalars\n",
      "  dist = 1.0 - uv / np.sqrt(uu * vv)\n",
      "/home/ubuntu/anaconda3/lib/python3.7/site-packages/scipy/spatial/distance.py:853: RuntimeWarning: invalid value encountered in double_scalars\n",
      "  dist = np.double(unequal_nonzero.sum()) / np.double(nonzero.sum())\n",
      "/home/ubuntu/anaconda3/lib/python3.7/site-packages/scipy/spatial/distance.py:1138: RuntimeWarning: invalid value encountered in double_scalars\n",
      "  return l1_diff.sum() / l1_sum.sum()\n"
     ]
    },
    {
     "name": "stdout",
     "output_type": "stream",
     "text": [
      "7Time used(w2v_3): 111.59123206138611\n",
      "8\n",
      "8Time used(basic): 12.779786109924316\n",
      "8Time used(fw): 142.49764943122864\n"
     ]
    },
    {
     "name": "stderr",
     "output_type": "stream",
     "text": [
      "0it [00:00, ?it/s]/home/ubuntu/anaconda3/lib/python3.7/site-packages/ipykernel_launcher.py:51: RuntimeWarning: invalid value encountered in double_scalars\n",
      "475it [00:00, 4748.88it/s]"
     ]
    },
    {
     "name": "stdout",
     "output_type": "stream",
     "text": [
      "8Time used(w2v_1): 222.09269452095032\n"
     ]
    },
    {
     "name": "stderr",
     "output_type": "stream",
     "text": [
      "118782it [00:24, 4831.73it/s]\n",
      "118782it [00:24, 4837.15it/s]\n"
     ]
    },
    {
     "name": "stdout",
     "output_type": "stream",
     "text": [
      "8Time used(w2v_2): 49.14483833312988\n"
     ]
    },
    {
     "name": "stderr",
     "output_type": "stream",
     "text": [
      "/home/ubuntu/anaconda3/lib/python3.7/site-packages/scipy/spatial/distance.py:698: RuntimeWarning: invalid value encountered in double_scalars\n",
      "  dist = 1.0 - uv / np.sqrt(uu * vv)\n",
      "/home/ubuntu/anaconda3/lib/python3.7/site-packages/scipy/spatial/distance.py:853: RuntimeWarning: invalid value encountered in double_scalars\n",
      "  dist = np.double(unequal_nonzero.sum()) / np.double(nonzero.sum())\n",
      "/home/ubuntu/anaconda3/lib/python3.7/site-packages/scipy/spatial/distance.py:1138: RuntimeWarning: invalid value encountered in double_scalars\n",
      "  return l1_diff.sum() / l1_sum.sum()\n"
     ]
    },
    {
     "name": "stdout",
     "output_type": "stream",
     "text": [
      "8Time used(w2v_3): 111.93764114379883\n",
      "9\n",
      "9Time used(basic): 12.78784465789795\n",
      "9Time used(fw): 142.4112594127655\n"
     ]
    },
    {
     "name": "stderr",
     "output_type": "stream",
     "text": [
      "0it [00:00, ?it/s]/home/ubuntu/anaconda3/lib/python3.7/site-packages/ipykernel_launcher.py:51: RuntimeWarning: invalid value encountered in double_scalars\n",
      "471it [00:00, 4709.68it/s]"
     ]
    },
    {
     "name": "stdout",
     "output_type": "stream",
     "text": [
      "9Time used(w2v_1): 222.01542448997498\n"
     ]
    },
    {
     "name": "stderr",
     "output_type": "stream",
     "text": [
      "118782it [00:24, 4850.65it/s]\n",
      "118782it [00:24, 4840.19it/s]\n"
     ]
    },
    {
     "name": "stdout",
     "output_type": "stream",
     "text": [
      "9Time used(w2v_2): 49.03349328041077\n"
     ]
    },
    {
     "name": "stderr",
     "output_type": "stream",
     "text": [
      "/home/ubuntu/anaconda3/lib/python3.7/site-packages/scipy/spatial/distance.py:698: RuntimeWarning: invalid value encountered in double_scalars\n",
      "  dist = 1.0 - uv / np.sqrt(uu * vv)\n",
      "/home/ubuntu/anaconda3/lib/python3.7/site-packages/scipy/spatial/distance.py:853: RuntimeWarning: invalid value encountered in double_scalars\n",
      "  dist = np.double(unequal_nonzero.sum()) / np.double(nonzero.sum())\n",
      "/home/ubuntu/anaconda3/lib/python3.7/site-packages/scipy/spatial/distance.py:1138: RuntimeWarning: invalid value encountered in double_scalars\n",
      "  return l1_diff.sum() / l1_sum.sum()\n"
     ]
    },
    {
     "name": "stdout",
     "output_type": "stream",
     "text": [
      "9Time used(w2v_3): 111.38891696929932\n",
      "10\n",
      "10Time used(basic): 12.64838719367981\n",
      "10Time used(fw): 142.12241864204407\n"
     ]
    },
    {
     "name": "stderr",
     "output_type": "stream",
     "text": [
      "0it [00:00, ?it/s]/home/ubuntu/anaconda3/lib/python3.7/site-packages/ipykernel_launcher.py:51: RuntimeWarning: invalid value encountered in double_scalars\n",
      "474it [00:00, 4737.07it/s]"
     ]
    },
    {
     "name": "stdout",
     "output_type": "stream",
     "text": [
      "10Time used(w2v_1): 222.2156674861908\n"
     ]
    },
    {
     "name": "stderr",
     "output_type": "stream",
     "text": [
      "118782it [00:24, 4874.81it/s]\n",
      "118782it [00:24, 4904.81it/s]\n"
     ]
    },
    {
     "name": "stdout",
     "output_type": "stream",
     "text": [
      "10Time used(w2v_2): 48.58996272087097\n"
     ]
    },
    {
     "name": "stderr",
     "output_type": "stream",
     "text": [
      "/home/ubuntu/anaconda3/lib/python3.7/site-packages/scipy/spatial/distance.py:698: RuntimeWarning: invalid value encountered in double_scalars\n",
      "  dist = 1.0 - uv / np.sqrt(uu * vv)\n",
      "/home/ubuntu/anaconda3/lib/python3.7/site-packages/scipy/spatial/distance.py:853: RuntimeWarning: invalid value encountered in double_scalars\n",
      "  dist = np.double(unequal_nonzero.sum()) / np.double(nonzero.sum())\n",
      "/home/ubuntu/anaconda3/lib/python3.7/site-packages/scipy/spatial/distance.py:1138: RuntimeWarning: invalid value encountered in double_scalars\n",
      "  return l1_diff.sum() / l1_sum.sum()\n"
     ]
    },
    {
     "name": "stdout",
     "output_type": "stream",
     "text": [
      "10Time used(w2v_3): 112.00282669067383\n",
      "11\n",
      "11Time used(basic): 12.813849210739136\n",
      "11Time used(fw): 143.39404010772705\n"
     ]
    },
    {
     "name": "stderr",
     "output_type": "stream",
     "text": [
      "0it [00:00, ?it/s]/home/ubuntu/anaconda3/lib/python3.7/site-packages/ipykernel_launcher.py:51: RuntimeWarning: invalid value encountered in double_scalars\n",
      "472it [00:00, 4719.01it/s]"
     ]
    },
    {
     "name": "stdout",
     "output_type": "stream",
     "text": [
      "11Time used(w2v_1): 222.66797876358032\n"
     ]
    },
    {
     "name": "stderr",
     "output_type": "stream",
     "text": [
      "118782it [00:24, 4863.23it/s]\n",
      "118782it [00:24, 4875.12it/s]\n"
     ]
    },
    {
     "name": "stdout",
     "output_type": "stream",
     "text": [
      "11Time used(w2v_2): 48.79433727264404\n"
     ]
    },
    {
     "name": "stderr",
     "output_type": "stream",
     "text": [
      "/home/ubuntu/anaconda3/lib/python3.7/site-packages/scipy/spatial/distance.py:698: RuntimeWarning: invalid value encountered in double_scalars\n",
      "  dist = 1.0 - uv / np.sqrt(uu * vv)\n",
      "/home/ubuntu/anaconda3/lib/python3.7/site-packages/scipy/spatial/distance.py:853: RuntimeWarning: invalid value encountered in double_scalars\n",
      "  dist = np.double(unequal_nonzero.sum()) / np.double(nonzero.sum())\n",
      "/home/ubuntu/anaconda3/lib/python3.7/site-packages/scipy/spatial/distance.py:1138: RuntimeWarning: invalid value encountered in double_scalars\n",
      "  return l1_diff.sum() / l1_sum.sum()\n"
     ]
    },
    {
     "name": "stdout",
     "output_type": "stream",
     "text": [
      "11Time used(w2v_3): 113.17963576316833\n",
      "12\n",
      "12Time used(basic): 12.777355670928955\n",
      "12Time used(fw): 141.90534257888794\n"
     ]
    },
    {
     "name": "stderr",
     "output_type": "stream",
     "text": [
      "0it [00:00, ?it/s]/home/ubuntu/anaconda3/lib/python3.7/site-packages/ipykernel_launcher.py:51: RuntimeWarning: invalid value encountered in double_scalars\n",
      "467it [00:00, 4663.58it/s]"
     ]
    },
    {
     "name": "stdout",
     "output_type": "stream",
     "text": [
      "12Time used(w2v_1): 221.29969573020935\n"
     ]
    },
    {
     "name": "stderr",
     "output_type": "stream",
     "text": [
      "118782it [00:24, 4841.76it/s]\n",
      "118782it [00:24, 4853.86it/s]\n"
     ]
    },
    {
     "name": "stdout",
     "output_type": "stream",
     "text": [
      "12Time used(w2v_2): 49.00912070274353\n"
     ]
    },
    {
     "name": "stderr",
     "output_type": "stream",
     "text": [
      "/home/ubuntu/anaconda3/lib/python3.7/site-packages/scipy/spatial/distance.py:698: RuntimeWarning: invalid value encountered in double_scalars\n",
      "  dist = 1.0 - uv / np.sqrt(uu * vv)\n",
      "/home/ubuntu/anaconda3/lib/python3.7/site-packages/scipy/spatial/distance.py:853: RuntimeWarning: invalid value encountered in double_scalars\n",
      "  dist = np.double(unequal_nonzero.sum()) / np.double(nonzero.sum())\n",
      "/home/ubuntu/anaconda3/lib/python3.7/site-packages/scipy/spatial/distance.py:1138: RuntimeWarning: invalid value encountered in double_scalars\n",
      "  return l1_diff.sum() / l1_sum.sum()\n"
     ]
    },
    {
     "name": "stdout",
     "output_type": "stream",
     "text": [
      "12Time used(w2v_3): 111.6611099243164\n",
      "13\n",
      "13Time used(basic): 12.834234237670898\n",
      "13Time used(fw): 142.36279368400574\n"
     ]
    },
    {
     "name": "stderr",
     "output_type": "stream",
     "text": [
      "0it [00:00, ?it/s]/home/ubuntu/anaconda3/lib/python3.7/site-packages/ipykernel_launcher.py:51: RuntimeWarning: invalid value encountered in double_scalars\n",
      "462it [00:00, 4614.42it/s]"
     ]
    },
    {
     "name": "stdout",
     "output_type": "stream",
     "text": [
      "13Time used(w2v_1): 223.00964522361755\n"
     ]
    },
    {
     "name": "stderr",
     "output_type": "stream",
     "text": [
      "118782it [00:24, 4815.17it/s]\n",
      "118782it [00:24, 4818.74it/s]\n"
     ]
    },
    {
     "name": "stdout",
     "output_type": "stream",
     "text": [
      "13Time used(w2v_2): 49.322874784469604\n"
     ]
    },
    {
     "name": "stderr",
     "output_type": "stream",
     "text": [
      "/home/ubuntu/anaconda3/lib/python3.7/site-packages/scipy/spatial/distance.py:698: RuntimeWarning: invalid value encountered in double_scalars\n",
      "  dist = 1.0 - uv / np.sqrt(uu * vv)\n",
      "/home/ubuntu/anaconda3/lib/python3.7/site-packages/scipy/spatial/distance.py:853: RuntimeWarning: invalid value encountered in double_scalars\n",
      "  dist = np.double(unequal_nonzero.sum()) / np.double(nonzero.sum())\n",
      "/home/ubuntu/anaconda3/lib/python3.7/site-packages/scipy/spatial/distance.py:1138: RuntimeWarning: invalid value encountered in double_scalars\n",
      "  return l1_diff.sum() / l1_sum.sum()\n"
     ]
    },
    {
     "name": "stdout",
     "output_type": "stream",
     "text": [
      "13Time used(w2v_3): 113.51676034927368\n",
      "14\n",
      "14Time used(basic): 12.67480182647705\n",
      "14Time used(fw): 142.18494582176208\n"
     ]
    },
    {
     "name": "stderr",
     "output_type": "stream",
     "text": [
      "0it [00:00, ?it/s]/home/ubuntu/anaconda3/lib/python3.7/site-packages/ipykernel_launcher.py:51: RuntimeWarning: invalid value encountered in double_scalars\n",
      "479it [00:00, 4789.11it/s]"
     ]
    },
    {
     "name": "stdout",
     "output_type": "stream",
     "text": [
      "14Time used(w2v_1): 221.64404487609863\n"
     ]
    },
    {
     "name": "stderr",
     "output_type": "stream",
     "text": [
      "118782it [00:24, 4830.34it/s]\n",
      "118782it [00:24, 4861.63it/s]\n"
     ]
    },
    {
     "name": "stdout",
     "output_type": "stream",
     "text": [
      "14Time used(w2v_2): 49.02857422828674\n"
     ]
    },
    {
     "name": "stderr",
     "output_type": "stream",
     "text": [
      "/home/ubuntu/anaconda3/lib/python3.7/site-packages/scipy/spatial/distance.py:698: RuntimeWarning: invalid value encountered in double_scalars\n",
      "  dist = 1.0 - uv / np.sqrt(uu * vv)\n",
      "/home/ubuntu/anaconda3/lib/python3.7/site-packages/scipy/spatial/distance.py:853: RuntimeWarning: invalid value encountered in double_scalars\n",
      "  dist = np.double(unequal_nonzero.sum()) / np.double(nonzero.sum())\n",
      "/home/ubuntu/anaconda3/lib/python3.7/site-packages/scipy/spatial/distance.py:1138: RuntimeWarning: invalid value encountered in double_scalars\n",
      "  return l1_diff.sum() / l1_sum.sum()\n"
     ]
    },
    {
     "name": "stdout",
     "output_type": "stream",
     "text": [
      "14Time used(w2v_3): 111.38685512542725\n",
      "15\n",
      "15Time used(basic): 12.639974117279053\n",
      "15Time used(fw): 142.84604263305664\n"
     ]
    },
    {
     "name": "stderr",
     "output_type": "stream",
     "text": [
      "0it [00:00, ?it/s]/home/ubuntu/anaconda3/lib/python3.7/site-packages/ipykernel_launcher.py:51: RuntimeWarning: invalid value encountered in double_scalars\n",
      "469it [00:00, 4686.95it/s]"
     ]
    },
    {
     "name": "stdout",
     "output_type": "stream",
     "text": [
      "15Time used(w2v_1): 223.5239417552948\n"
     ]
    },
    {
     "name": "stderr",
     "output_type": "stream",
     "text": [
      "118782it [00:24, 4869.24it/s]\n",
      "118782it [00:24, 4860.61it/s]\n"
     ]
    },
    {
     "name": "stdout",
     "output_type": "stream",
     "text": [
      "15Time used(w2v_2): 48.837379455566406\n"
     ]
    },
    {
     "name": "stderr",
     "output_type": "stream",
     "text": [
      "/home/ubuntu/anaconda3/lib/python3.7/site-packages/scipy/spatial/distance.py:698: RuntimeWarning: invalid value encountered in double_scalars\n",
      "  dist = 1.0 - uv / np.sqrt(uu * vv)\n",
      "/home/ubuntu/anaconda3/lib/python3.7/site-packages/scipy/spatial/distance.py:853: RuntimeWarning: invalid value encountered in double_scalars\n",
      "  dist = np.double(unequal_nonzero.sum()) / np.double(nonzero.sum())\n",
      "/home/ubuntu/anaconda3/lib/python3.7/site-packages/scipy/spatial/distance.py:1138: RuntimeWarning: invalid value encountered in double_scalars\n",
      "  return l1_diff.sum() / l1_sum.sum()\n"
     ]
    },
    {
     "name": "stdout",
     "output_type": "stream",
     "text": [
      "15Time used(w2v_3): 111.92583870887756\n",
      "16\n",
      "16Time used(basic): 12.61986255645752\n",
      "16Time used(fw): 141.42595314979553\n"
     ]
    },
    {
     "name": "stderr",
     "output_type": "stream",
     "text": [
      "0it [00:00, ?it/s]/home/ubuntu/anaconda3/lib/python3.7/site-packages/ipykernel_launcher.py:51: RuntimeWarning: invalid value encountered in double_scalars\n",
      "469it [00:00, 4685.02it/s]"
     ]
    },
    {
     "name": "stdout",
     "output_type": "stream",
     "text": [
      "16Time used(w2v_1): 220.75457096099854\n"
     ]
    },
    {
     "name": "stderr",
     "output_type": "stream",
     "text": [
      "118782it [00:24, 4856.48it/s]\n",
      "118782it [00:24, 4846.39it/s]\n"
     ]
    },
    {
     "name": "stdout",
     "output_type": "stream",
     "text": [
      "16Time used(w2v_2): 48.972880363464355\n"
     ]
    },
    {
     "name": "stderr",
     "output_type": "stream",
     "text": [
      "/home/ubuntu/anaconda3/lib/python3.7/site-packages/scipy/spatial/distance.py:698: RuntimeWarning: invalid value encountered in double_scalars\n",
      "  dist = 1.0 - uv / np.sqrt(uu * vv)\n",
      "/home/ubuntu/anaconda3/lib/python3.7/site-packages/scipy/spatial/distance.py:853: RuntimeWarning: invalid value encountered in double_scalars\n",
      "  dist = np.double(unequal_nonzero.sum()) / np.double(nonzero.sum())\n",
      "/home/ubuntu/anaconda3/lib/python3.7/site-packages/scipy/spatial/distance.py:1138: RuntimeWarning: invalid value encountered in double_scalars\n",
      "  return l1_diff.sum() / l1_sum.sum()\n"
     ]
    },
    {
     "name": "stdout",
     "output_type": "stream",
     "text": [
      "16Time used(w2v_3): 113.06386423110962\n",
      "17\n",
      "17Time used(basic): 12.77892804145813\n",
      "17Time used(fw): 142.05513215065002\n"
     ]
    },
    {
     "name": "stderr",
     "output_type": "stream",
     "text": [
      "0it [00:00, ?it/s]/home/ubuntu/anaconda3/lib/python3.7/site-packages/ipykernel_launcher.py:51: RuntimeWarning: invalid value encountered in double_scalars\n",
      "465it [00:00, 4643.11it/s]"
     ]
    },
    {
     "name": "stdout",
     "output_type": "stream",
     "text": [
      "17Time used(w2v_1): 221.53287482261658\n"
     ]
    },
    {
     "name": "stderr",
     "output_type": "stream",
     "text": [
      "118782it [00:24, 4843.13it/s]\n",
      "118782it [00:24, 4833.20it/s]\n"
     ]
    },
    {
     "name": "stdout",
     "output_type": "stream",
     "text": [
      "17Time used(w2v_2): 49.106900453567505\n"
     ]
    },
    {
     "name": "stderr",
     "output_type": "stream",
     "text": [
      "/home/ubuntu/anaconda3/lib/python3.7/site-packages/scipy/spatial/distance.py:698: RuntimeWarning: invalid value encountered in double_scalars\n",
      "  dist = 1.0 - uv / np.sqrt(uu * vv)\n",
      "/home/ubuntu/anaconda3/lib/python3.7/site-packages/scipy/spatial/distance.py:853: RuntimeWarning: invalid value encountered in double_scalars\n",
      "  dist = np.double(unequal_nonzero.sum()) / np.double(nonzero.sum())\n",
      "/home/ubuntu/anaconda3/lib/python3.7/site-packages/scipy/spatial/distance.py:1138: RuntimeWarning: invalid value encountered in double_scalars\n",
      "  return l1_diff.sum() / l1_sum.sum()\n"
     ]
    },
    {
     "name": "stdout",
     "output_type": "stream",
     "text": [
      "17Time used(w2v_3): 112.48638725280762\n",
      "18\n",
      "18Time used(basic): 12.680561065673828\n",
      "18Time used(fw): 143.19861602783203\n"
     ]
    },
    {
     "name": "stderr",
     "output_type": "stream",
     "text": [
      "0it [00:00, ?it/s]/home/ubuntu/anaconda3/lib/python3.7/site-packages/ipykernel_launcher.py:51: RuntimeWarning: invalid value encountered in double_scalars\n",
      "469it [00:00, 4686.12it/s]"
     ]
    },
    {
     "name": "stdout",
     "output_type": "stream",
     "text": [
      "18Time used(w2v_1): 222.20506381988525\n"
     ]
    },
    {
     "name": "stderr",
     "output_type": "stream",
     "text": [
      "118782it [00:24, 4815.86it/s]\n",
      "118782it [00:24, 4786.01it/s]\n"
     ]
    },
    {
     "name": "stdout",
     "output_type": "stream",
     "text": [
      "18Time used(w2v_2): 49.488911151885986\n"
     ]
    },
    {
     "name": "stderr",
     "output_type": "stream",
     "text": [
      "/home/ubuntu/anaconda3/lib/python3.7/site-packages/scipy/spatial/distance.py:698: RuntimeWarning: invalid value encountered in double_scalars\n",
      "  dist = 1.0 - uv / np.sqrt(uu * vv)\n",
      "/home/ubuntu/anaconda3/lib/python3.7/site-packages/scipy/spatial/distance.py:853: RuntimeWarning: invalid value encountered in double_scalars\n",
      "  dist = np.double(unequal_nonzero.sum()) / np.double(nonzero.sum())\n",
      "/home/ubuntu/anaconda3/lib/python3.7/site-packages/scipy/spatial/distance.py:1138: RuntimeWarning: invalid value encountered in double_scalars\n",
      "  return l1_diff.sum() / l1_sum.sum()\n"
     ]
    },
    {
     "name": "stdout",
     "output_type": "stream",
     "text": [
      "18Time used(w2v_3): 110.96317505836487\n",
      "19\n",
      "19Time used(basic): 12.870785236358643\n",
      "19Time used(fw): 141.8943591117859\n"
     ]
    },
    {
     "name": "stderr",
     "output_type": "stream",
     "text": [
      "0it [00:00, ?it/s]/home/ubuntu/anaconda3/lib/python3.7/site-packages/ipykernel_launcher.py:51: RuntimeWarning: invalid value encountered in double_scalars\n",
      "457it [00:00, 4566.77it/s]"
     ]
    },
    {
     "name": "stdout",
     "output_type": "stream",
     "text": [
      "19Time used(w2v_1): 222.5698082447052\n"
     ]
    },
    {
     "name": "stderr",
     "output_type": "stream",
     "text": [
      "118782it [00:24, 4844.96it/s]\n",
      "118782it [00:24, 4841.79it/s]\n"
     ]
    },
    {
     "name": "stdout",
     "output_type": "stream",
     "text": [
      "19Time used(w2v_2): 49.05432486534119\n"
     ]
    },
    {
     "name": "stderr",
     "output_type": "stream",
     "text": [
      "/home/ubuntu/anaconda3/lib/python3.7/site-packages/scipy/spatial/distance.py:698: RuntimeWarning: invalid value encountered in double_scalars\n",
      "  dist = 1.0 - uv / np.sqrt(uu * vv)\n",
      "/home/ubuntu/anaconda3/lib/python3.7/site-packages/scipy/spatial/distance.py:853: RuntimeWarning: invalid value encountered in double_scalars\n",
      "  dist = np.double(unequal_nonzero.sum()) / np.double(nonzero.sum())\n",
      "/home/ubuntu/anaconda3/lib/python3.7/site-packages/scipy/spatial/distance.py:1138: RuntimeWarning: invalid value encountered in double_scalars\n",
      "  return l1_diff.sum() / l1_sum.sum()\n"
     ]
    },
    {
     "name": "stdout",
     "output_type": "stream",
     "text": [
      "19Time used(w2v_3): 111.9486231803894\n",
      "20\n",
      "20Time used(basic): 12.730672836303711\n",
      "20Time used(fw): 142.5822789669037\n"
     ]
    },
    {
     "name": "stderr",
     "output_type": "stream",
     "text": [
      "0it [00:00, ?it/s]/home/ubuntu/anaconda3/lib/python3.7/site-packages/ipykernel_launcher.py:51: RuntimeWarning: invalid value encountered in double_scalars\n",
      "459it [00:00, 4582.39it/s]"
     ]
    },
    {
     "name": "stdout",
     "output_type": "stream",
     "text": [
      "20Time used(w2v_1): 221.66572308540344\n"
     ]
    },
    {
     "name": "stderr",
     "output_type": "stream",
     "text": [
      "118782it [00:24, 4817.77it/s]\n",
      "118782it [00:24, 4796.96it/s]\n"
     ]
    },
    {
     "name": "stdout",
     "output_type": "stream",
     "text": [
      "20Time used(w2v_2): 49.422237157821655\n"
     ]
    },
    {
     "name": "stderr",
     "output_type": "stream",
     "text": [
      "/home/ubuntu/anaconda3/lib/python3.7/site-packages/scipy/spatial/distance.py:698: RuntimeWarning: invalid value encountered in double_scalars\n",
      "  dist = 1.0 - uv / np.sqrt(uu * vv)\n",
      "/home/ubuntu/anaconda3/lib/python3.7/site-packages/scipy/spatial/distance.py:853: RuntimeWarning: invalid value encountered in double_scalars\n",
      "  dist = np.double(unequal_nonzero.sum()) / np.double(nonzero.sum())\n",
      "/home/ubuntu/anaconda3/lib/python3.7/site-packages/scipy/spatial/distance.py:1138: RuntimeWarning: invalid value encountered in double_scalars\n",
      "  return l1_diff.sum() / l1_sum.sum()\n"
     ]
    },
    {
     "name": "stdout",
     "output_type": "stream",
     "text": [
      "20Time used(w2v_3): 111.29073405265808\n",
      "21\n",
      "21Time used(basic): 12.589032411575317\n",
      "21Time used(fw): 142.18420720100403\n"
     ]
    },
    {
     "name": "stderr",
     "output_type": "stream",
     "text": [
      "0it [00:00, ?it/s]/home/ubuntu/anaconda3/lib/python3.7/site-packages/ipykernel_launcher.py:51: RuntimeWarning: invalid value encountered in double_scalars\n",
      "456it [00:00, 4558.57it/s]"
     ]
    },
    {
     "name": "stdout",
     "output_type": "stream",
     "text": [
      "21Time used(w2v_1): 222.00288915634155\n"
     ]
    },
    {
     "name": "stderr",
     "output_type": "stream",
     "text": [
      "118782it [00:24, 4857.96it/s]\n",
      "118782it [00:24, 4844.45it/s]\n"
     ]
    },
    {
     "name": "stdout",
     "output_type": "stream",
     "text": [
      "21Time used(w2v_2): 48.97529220581055\n"
     ]
    },
    {
     "name": "stderr",
     "output_type": "stream",
     "text": [
      "/home/ubuntu/anaconda3/lib/python3.7/site-packages/scipy/spatial/distance.py:698: RuntimeWarning: invalid value encountered in double_scalars\n",
      "  dist = 1.0 - uv / np.sqrt(uu * vv)\n",
      "/home/ubuntu/anaconda3/lib/python3.7/site-packages/scipy/spatial/distance.py:853: RuntimeWarning: invalid value encountered in double_scalars\n",
      "  dist = np.double(unequal_nonzero.sum()) / np.double(nonzero.sum())\n",
      "/home/ubuntu/anaconda3/lib/python3.7/site-packages/scipy/spatial/distance.py:1138: RuntimeWarning: invalid value encountered in double_scalars\n",
      "  return l1_diff.sum() / l1_sum.sum()\n"
     ]
    },
    {
     "name": "stdout",
     "output_type": "stream",
     "text": [
      "21Time used(w2v_3): 111.71071887016296\n",
      "22\n",
      "22Time used(basic): 12.775931119918823\n",
      "22Time used(fw): 142.2408585548401\n"
     ]
    },
    {
     "name": "stderr",
     "output_type": "stream",
     "text": [
      "465it [00:00, 4647.85it/s]"
     ]
    },
    {
     "name": "stdout",
     "output_type": "stream",
     "text": [
      "22Time used(w2v_1): 221.95329689979553\n"
     ]
    },
    {
     "name": "stderr",
     "output_type": "stream",
     "text": [
      "/home/ubuntu/anaconda3/lib/python3.7/site-packages/ipykernel_launcher.py:51: RuntimeWarning: invalid value encountered in double_scalars\n",
      "118782it [00:24, 4830.55it/s]\n",
      "118782it [00:24, 4826.50it/s]\n"
     ]
    },
    {
     "name": "stdout",
     "output_type": "stream",
     "text": [
      "22Time used(w2v_2): 49.2051956653595\n"
     ]
    },
    {
     "name": "stderr",
     "output_type": "stream",
     "text": [
      "/home/ubuntu/anaconda3/lib/python3.7/site-packages/scipy/spatial/distance.py:698: RuntimeWarning: invalid value encountered in double_scalars\n",
      "  dist = 1.0 - uv / np.sqrt(uu * vv)\n",
      "/home/ubuntu/anaconda3/lib/python3.7/site-packages/scipy/spatial/distance.py:853: RuntimeWarning: invalid value encountered in double_scalars\n",
      "  dist = np.double(unequal_nonzero.sum()) / np.double(nonzero.sum())\n",
      "/home/ubuntu/anaconda3/lib/python3.7/site-packages/scipy/spatial/distance.py:1138: RuntimeWarning: invalid value encountered in double_scalars\n",
      "  return l1_diff.sum() / l1_sum.sum()\n"
     ]
    },
    {
     "name": "stdout",
     "output_type": "stream",
     "text": [
      "22Time used(w2v_3): 111.610671043396\n",
      "23\n",
      "23Time used(basic): 12.680663585662842\n",
      "23Time used(fw): 143.2149338722229\n"
     ]
    },
    {
     "name": "stderr",
     "output_type": "stream",
     "text": [
      "0it [00:00, ?it/s]/home/ubuntu/anaconda3/lib/python3.7/site-packages/ipykernel_launcher.py:51: RuntimeWarning: invalid value encountered in double_scalars\n",
      "459it [00:00, 4583.87it/s]"
     ]
    },
    {
     "name": "stdout",
     "output_type": "stream",
     "text": [
      "23Time used(w2v_1): 222.77726793289185\n"
     ]
    },
    {
     "name": "stderr",
     "output_type": "stream",
     "text": [
      "118782it [00:24, 4831.27it/s]\n",
      "118782it [00:24, 4839.19it/s]\n"
     ]
    },
    {
     "name": "stdout",
     "output_type": "stream",
     "text": [
      "23Time used(w2v_2): 49.13680672645569\n"
     ]
    },
    {
     "name": "stderr",
     "output_type": "stream",
     "text": [
      "/home/ubuntu/anaconda3/lib/python3.7/site-packages/scipy/spatial/distance.py:698: RuntimeWarning: invalid value encountered in double_scalars\n",
      "  dist = 1.0 - uv / np.sqrt(uu * vv)\n",
      "/home/ubuntu/anaconda3/lib/python3.7/site-packages/scipy/spatial/distance.py:853: RuntimeWarning: invalid value encountered in double_scalars\n",
      "  dist = np.double(unequal_nonzero.sum()) / np.double(nonzero.sum())\n",
      "/home/ubuntu/anaconda3/lib/python3.7/site-packages/scipy/spatial/distance.py:1138: RuntimeWarning: invalid value encountered in double_scalars\n",
      "  return l1_diff.sum() / l1_sum.sum()\n"
     ]
    },
    {
     "name": "stdout",
     "output_type": "stream",
     "text": [
      "23Time used(w2v_3): 111.69941306114197\n",
      "24\n",
      "24Time used(basic): 12.530517339706421\n",
      "24Time used(fw): 142.09047961235046\n"
     ]
    },
    {
     "name": "stderr",
     "output_type": "stream",
     "text": [
      "0it [00:00, ?it/s]/home/ubuntu/anaconda3/lib/python3.7/site-packages/ipykernel_launcher.py:51: RuntimeWarning: invalid value encountered in double_scalars\n",
      "475it [00:00, 4740.86it/s]"
     ]
    },
    {
     "name": "stdout",
     "output_type": "stream",
     "text": [
      "24Time used(w2v_1): 222.7099964618683\n"
     ]
    },
    {
     "name": "stderr",
     "output_type": "stream",
     "text": [
      "118782it [00:24, 4854.65it/s]\n",
      "118782it [00:24, 4835.98it/s]\n"
     ]
    },
    {
     "name": "stdout",
     "output_type": "stream",
     "text": [
      "24Time used(w2v_2): 49.03521275520325\n"
     ]
    },
    {
     "name": "stderr",
     "output_type": "stream",
     "text": [
      "/home/ubuntu/anaconda3/lib/python3.7/site-packages/scipy/spatial/distance.py:698: RuntimeWarning: invalid value encountered in double_scalars\n",
      "  dist = 1.0 - uv / np.sqrt(uu * vv)\n",
      "/home/ubuntu/anaconda3/lib/python3.7/site-packages/scipy/spatial/distance.py:853: RuntimeWarning: invalid value encountered in double_scalars\n",
      "  dist = np.double(unequal_nonzero.sum()) / np.double(nonzero.sum())\n",
      "/home/ubuntu/anaconda3/lib/python3.7/site-packages/scipy/spatial/distance.py:1138: RuntimeWarning: invalid value encountered in double_scalars\n",
      "  return l1_diff.sum() / l1_sum.sum()\n"
     ]
    },
    {
     "name": "stdout",
     "output_type": "stream",
     "text": [
      "24Time used(w2v_3): 111.5024766921997\n",
      "25\n",
      "25Time used(basic): 12.664867877960205\n",
      "25Time used(fw): 141.8690640926361\n"
     ]
    },
    {
     "name": "stderr",
     "output_type": "stream",
     "text": [
      "0it [00:00, ?it/s]/home/ubuntu/anaconda3/lib/python3.7/site-packages/ipykernel_launcher.py:51: RuntimeWarning: invalid value encountered in double_scalars\n",
      "467it [00:00, 4663.20it/s]"
     ]
    },
    {
     "name": "stdout",
     "output_type": "stream",
     "text": [
      "25Time used(w2v_1): 223.9998927116394\n"
     ]
    },
    {
     "name": "stderr",
     "output_type": "stream",
     "text": [
      "118782it [00:24, 4816.68it/s]\n",
      "118782it [00:24, 4833.39it/s]\n"
     ]
    },
    {
     "name": "stdout",
     "output_type": "stream",
     "text": [
      "25Time used(w2v_2): 49.24167275428772\n"
     ]
    },
    {
     "name": "stderr",
     "output_type": "stream",
     "text": [
      "/home/ubuntu/anaconda3/lib/python3.7/site-packages/scipy/spatial/distance.py:698: RuntimeWarning: invalid value encountered in double_scalars\n",
      "  dist = 1.0 - uv / np.sqrt(uu * vv)\n",
      "/home/ubuntu/anaconda3/lib/python3.7/site-packages/scipy/spatial/distance.py:853: RuntimeWarning: invalid value encountered in double_scalars\n",
      "  dist = np.double(unequal_nonzero.sum()) / np.double(nonzero.sum())\n",
      "/home/ubuntu/anaconda3/lib/python3.7/site-packages/scipy/spatial/distance.py:1138: RuntimeWarning: invalid value encountered in double_scalars\n",
      "  return l1_diff.sum() / l1_sum.sum()\n"
     ]
    },
    {
     "name": "stdout",
     "output_type": "stream",
     "text": [
      "25Time used(w2v_3): 111.27138710021973\n",
      "26\n",
      "26Time used(basic): 12.706238269805908\n",
      "26Time used(fw): 142.37933897972107\n"
     ]
    },
    {
     "name": "stderr",
     "output_type": "stream",
     "text": [
      "0it [00:00, ?it/s]/home/ubuntu/anaconda3/lib/python3.7/site-packages/ipykernel_launcher.py:51: RuntimeWarning: invalid value encountered in double_scalars\n",
      "469it [00:00, 4674.89it/s]"
     ]
    },
    {
     "name": "stdout",
     "output_type": "stream",
     "text": [
      "26Time used(w2v_1): 222.49517560005188\n"
     ]
    },
    {
     "name": "stderr",
     "output_type": "stream",
     "text": [
      "118782it [00:24, 4845.65it/s]\n",
      "118782it [00:24, 4854.53it/s]\n"
     ]
    },
    {
     "name": "stdout",
     "output_type": "stream",
     "text": [
      "26Time used(w2v_2): 48.98708653450012\n"
     ]
    },
    {
     "name": "stderr",
     "output_type": "stream",
     "text": [
      "/home/ubuntu/anaconda3/lib/python3.7/site-packages/scipy/spatial/distance.py:698: RuntimeWarning: invalid value encountered in double_scalars\n",
      "  dist = 1.0 - uv / np.sqrt(uu * vv)\n",
      "/home/ubuntu/anaconda3/lib/python3.7/site-packages/scipy/spatial/distance.py:853: RuntimeWarning: invalid value encountered in double_scalars\n",
      "  dist = np.double(unequal_nonzero.sum()) / np.double(nonzero.sum())\n",
      "/home/ubuntu/anaconda3/lib/python3.7/site-packages/scipy/spatial/distance.py:1138: RuntimeWarning: invalid value encountered in double_scalars\n",
      "  return l1_diff.sum() / l1_sum.sum()\n"
     ]
    },
    {
     "name": "stdout",
     "output_type": "stream",
     "text": [
      "26Time used(w2v_3): 111.34797310829163\n",
      "27\n",
      "27Time used(basic): 12.638227224349976\n",
      "27Time used(fw): 142.89254426956177\n"
     ]
    },
    {
     "name": "stderr",
     "output_type": "stream",
     "text": [
      "0it [00:00, ?it/s]/home/ubuntu/anaconda3/lib/python3.7/site-packages/ipykernel_launcher.py:51: RuntimeWarning: invalid value encountered in double_scalars\n",
      "479it [00:00, 4782.21it/s]"
     ]
    },
    {
     "name": "stdout",
     "output_type": "stream",
     "text": [
      "27Time used(w2v_1): 222.5731942653656\n"
     ]
    },
    {
     "name": "stderr",
     "output_type": "stream",
     "text": [
      "118782it [00:24, 4869.66it/s]\n",
      "118782it [00:24, 4886.63it/s]\n"
     ]
    },
    {
     "name": "stdout",
     "output_type": "stream",
     "text": [
      "27Time used(w2v_2): 48.70510387420654\n"
     ]
    },
    {
     "name": "stderr",
     "output_type": "stream",
     "text": [
      "/home/ubuntu/anaconda3/lib/python3.7/site-packages/scipy/spatial/distance.py:698: RuntimeWarning: invalid value encountered in double_scalars\n",
      "  dist = 1.0 - uv / np.sqrt(uu * vv)\n",
      "/home/ubuntu/anaconda3/lib/python3.7/site-packages/scipy/spatial/distance.py:853: RuntimeWarning: invalid value encountered in double_scalars\n",
      "  dist = np.double(unequal_nonzero.sum()) / np.double(nonzero.sum())\n",
      "/home/ubuntu/anaconda3/lib/python3.7/site-packages/scipy/spatial/distance.py:1138: RuntimeWarning: invalid value encountered in double_scalars\n",
      "  return l1_diff.sum() / l1_sum.sum()\n"
     ]
    },
    {
     "name": "stdout",
     "output_type": "stream",
     "text": [
      "27Time used(w2v_3): 111.8871955871582\n",
      "28\n",
      "28Time used(basic): 12.692200183868408\n",
      "28Time used(fw): 142.66335368156433\n"
     ]
    },
    {
     "name": "stderr",
     "output_type": "stream",
     "text": [
      "0it [00:00, ?it/s]/home/ubuntu/anaconda3/lib/python3.7/site-packages/ipykernel_launcher.py:51: RuntimeWarning: invalid value encountered in double_scalars\n",
      "468it [00:00, 4672.81it/s]"
     ]
    },
    {
     "name": "stdout",
     "output_type": "stream",
     "text": [
      "28Time used(w2v_1): 224.7370548248291\n"
     ]
    },
    {
     "name": "stderr",
     "output_type": "stream",
     "text": [
      "118782it [00:24, 4836.30it/s]\n",
      "118782it [00:24, 4802.19it/s]\n"
     ]
    },
    {
     "name": "stdout",
     "output_type": "stream",
     "text": [
      "28Time used(w2v_2): 49.300575971603394\n"
     ]
    },
    {
     "name": "stderr",
     "output_type": "stream",
     "text": [
      "/home/ubuntu/anaconda3/lib/python3.7/site-packages/scipy/spatial/distance.py:698: RuntimeWarning: invalid value encountered in double_scalars\n",
      "  dist = 1.0 - uv / np.sqrt(uu * vv)\n",
      "/home/ubuntu/anaconda3/lib/python3.7/site-packages/scipy/spatial/distance.py:853: RuntimeWarning: invalid value encountered in double_scalars\n",
      "  dist = np.double(unequal_nonzero.sum()) / np.double(nonzero.sum())\n",
      "/home/ubuntu/anaconda3/lib/python3.7/site-packages/scipy/spatial/distance.py:1138: RuntimeWarning: invalid value encountered in double_scalars\n",
      "  return l1_diff.sum() / l1_sum.sum()\n"
     ]
    },
    {
     "name": "stdout",
     "output_type": "stream",
     "text": [
      "28Time used(w2v_3): 111.81459259986877\n",
      "29\n",
      "29Time used(basic): 12.550244808197021\n",
      "29Time used(fw): 141.67691779136658\n"
     ]
    },
    {
     "name": "stderr",
     "output_type": "stream",
     "text": [
      "0it [00:00, ?it/s]/home/ubuntu/anaconda3/lib/python3.7/site-packages/ipykernel_launcher.py:51: RuntimeWarning: invalid value encountered in double_scalars\n",
      "465it [00:00, 4647.85it/s]"
     ]
    },
    {
     "name": "stdout",
     "output_type": "stream",
     "text": [
      "29Time used(w2v_1): 222.95827436447144\n"
     ]
    },
    {
     "name": "stderr",
     "output_type": "stream",
     "text": [
      "118782it [00:24, 4821.21it/s]\n",
      "118782it [00:24, 4857.00it/s]\n"
     ]
    },
    {
     "name": "stdout",
     "output_type": "stream",
     "text": [
      "29Time used(w2v_2): 49.09807586669922\n"
     ]
    },
    {
     "name": "stderr",
     "output_type": "stream",
     "text": [
      "/home/ubuntu/anaconda3/lib/python3.7/site-packages/scipy/spatial/distance.py:698: RuntimeWarning: invalid value encountered in double_scalars\n",
      "  dist = 1.0 - uv / np.sqrt(uu * vv)\n",
      "/home/ubuntu/anaconda3/lib/python3.7/site-packages/scipy/spatial/distance.py:853: RuntimeWarning: invalid value encountered in double_scalars\n",
      "  dist = np.double(unequal_nonzero.sum()) / np.double(nonzero.sum())\n",
      "/home/ubuntu/anaconda3/lib/python3.7/site-packages/scipy/spatial/distance.py:1138: RuntimeWarning: invalid value encountered in double_scalars\n",
      "  return l1_diff.sum() / l1_sum.sum()\n",
      "15it [00:00, 3933.39it/s]"
     ]
    },
    {
     "name": "stdout",
     "output_type": "stream",
     "text": [
      "29Time used(w2v_3): 111.53040361404419\n",
      "30\n",
      "30Time used(basic): 0.008590221405029297\n",
      "30Time used(fw): 0.044507741928100586\n",
      "30Time used(w2v_1): 0.040991783142089844\n"
     ]
    },
    {
     "name": "stderr",
     "output_type": "stream",
     "text": [
      "\n",
      "15it [00:00, 4426.55it/s]"
     ]
    },
    {
     "name": "stdout",
     "output_type": "stream",
     "text": [
      "30Time used(w2v_2): 0.024122953414916992\n",
      "30Time used(w2v_3): 0.020199060440063477\n",
      "Time(all) used: 16157.25825047493\n"
     ]
    },
    {
     "name": "stderr",
     "output_type": "stream",
     "text": [
      "\n"
     ]
    }
   ],
   "source": [
    "start_all = time.time()\n",
    "for ii in range(31):\n",
    "    print(ii)\n",
    "    #test_features = pd.DataFrame()\n",
    "    test_data = pd.read_pickle('test_data_processed_'+str(ii)+'.pkl')\n",
    "    ## basic\n",
    "    start = time.time()\n",
    "    test_data_features_basic = pd.DataFrame()\n",
    "    test_data_features_basic['len_q1'] = test_data['q1'].apply(lambda x:len(x))\n",
    "    test_data_features_basic['len_q2'] = test_data['q2'].apply(lambda x:len(x))\n",
    "    test_data_features_basic['diff_len'] = test_data_features_basic['len_q1'] - test_data_features_basic['len_q2']\n",
    "    test_data_features_basic['len_char_q1'] = test_data.q1.apply(lambda x:len(set(x.replace(' ',''))))\n",
    "    test_data_features_basic['len_char_q2'] = test_data.q2.apply(lambda x:len(set(x.replace(' ',''))))\n",
    "    test_data_features_basic['len_word_q1'] = test_data.q1.apply(lambda x:len(x.split()))\n",
    "    test_data_features_basic['len_word_q2'] = test_data.q2.apply(lambda x:len(x.split()))\n",
    "    test_data_features_basic['common_word'] = test_data.apply(lambda x: \n",
    "            len(set(x['q1'].split()) & set(x['q2'].translate(table).lower().split())),axis = 1)\n",
    "    test_data_features_basic['R']=test_data.apply(lambda x : word_match_share(x), axis=1)\n",
    "    elapsed = (time.time() - start)\n",
    "    print(str(ii)+\"Time used(basic):\",elapsed)\n",
    "    \n",
    "    ## fuzzywuzzy\n",
    "    start = time.time()\n",
    "    test_data_features_fw = pd.DataFrame()\n",
    "    test_data_features_fw['simple_ratio'] = test_data.apply(lambda x:fuzz.ratio(x['q1'],x['q2']),axis = 1)\n",
    "    test_data_features_fw['partial_ratio'] = test_data.apply(lambda x:fuzz.partial_ratio(x['q1'],x['q2']),axis = 1)\n",
    "    test_data_features_fw['token_sort_ratio'] = test_data.apply(lambda x:fuzz.token_sort_ratio(x['q1'],x['q2']),axis = 1)\n",
    "    test_data_features_fw['partial_token_sort_ratio'] = test_data.apply(lambda x:fuzz.partial_token_sort_ratio(x['q1'],x['q2']),axis = 1)\n",
    "    test_data_features_fw['token_set_ratio'] = test_data.apply(lambda x:fuzz.token_set_ratio(x['q1'],x['q2']),axis = 1)\n",
    "    test_data_features_fw['partial_token_set_ratio'] = test_data.apply(lambda x:fuzz.partial_token_set_ratio(x['q1'],x['q2']),axis = 1)\n",
    "    test_data_features_fw['QRatio'] = test_data.apply(lambda x:fuzz.QRatio(x['q1'],x['q2']),axis = 1)\n",
    "    test_data_features_fw['UQRatio'] = test_data.apply(lambda x:fuzz.UQRatio(x['q1'],x['q2']),axis = 1)\n",
    "    test_data_features_fw['WRatio'] = test_data.apply(lambda x:fuzz.WRatio(x['q1'],x['q2']),axis = 1)\n",
    "    test_data_features_fw['UWRatio'] = test_data.apply(lambda x:fuzz.UWRatio(x['q1'],x['q2']),axis = 1)\n",
    "    elapsed = (time.time() - start)\n",
    "    print(str(ii)+\"Time used(fw):\",elapsed)\n",
    "    \n",
    "    ## word2vec\n",
    "    ## 1\n",
    "    start = time.time()\n",
    "    test_data_features_w2v_1 = pd.DataFrame()\n",
    "    test_data_features_w2v_1['wmd'] = test_data.apply(lambda x: wmd(x['q1'], x['q2']), axis=1)\n",
    "    test_data_features_w2v_1['norm_wmd'] = test_data.apply(lambda x: norm_wmd(x['q1'], x['q2']), axis=1)\n",
    "    elapsed = (time.time() - start)\n",
    "    print(str(ii)+\"Time used(w2v_1):\",elapsed)\n",
    "    ## 2\n",
    "    start = time.time()\n",
    "    test_q1_vectors = np.zeros((test_data.shape[0], 300))            \n",
    "    for i, q in tqdm(enumerate(test_data.q1.values)):\n",
    "        test_q1_vectors[i, :] = sent2vec(q)\n",
    "\n",
    "    test_q2_vectors  = np.zeros((test_data.shape[0], 300))\n",
    "    for i, q in tqdm(enumerate(test_data.q2.values)):\n",
    "        test_q2_vectors[i, :] = sent2vec(q)\n",
    "    elapsed = (time.time() - start)\n",
    "    print(str(ii)+\"Time used(w2v_2):\",elapsed)\n",
    "    ## 3\n",
    "    start = time.time()\n",
    "    test_data_features_w2v_2 = pd.DataFrame()\n",
    "    test_data_features_w2v_2['cosine_distance'] = [cosine(x, y) for (x, y) in zip(np.nan_to_num(test_q1_vectors),\n",
    "                                                          np.nan_to_num(test_q2_vectors))]\n",
    "\n",
    "\n",
    "    test_data_features_w2v_2['cityblock_distance'] = [cityblock(x, y) for (x, y) in zip(np.nan_to_num(test_q1_vectors),\n",
    "                                                          np.nan_to_num(test_q2_vectors))]\n",
    "\n",
    "    test_data_features_w2v_2['jaccard_distance'] = [jaccard(x, y) for (x, y) in zip(np.nan_to_num(test_q1_vectors),\n",
    "                                                          np.nan_to_num(test_q2_vectors))]\n",
    "\n",
    "    test_data_features_w2v_2['canberra_distance'] = [canberra(x, y) for (x, y) in zip(np.nan_to_num(test_q1_vectors),\n",
    "                                                          np.nan_to_num(test_q2_vectors))]\n",
    "\n",
    "    test_data_features_w2v_2['euclidean_distance'] = [euclidean(x, y) for (x, y) in zip(np.nan_to_num(test_q1_vectors),\n",
    "                                                          np.nan_to_num(test_q2_vectors))]\n",
    "\n",
    "    test_data_features_w2v_2['minkowski_distance'] = [minkowski(x, y, 3) for (x, y) in zip(np.nan_to_num(test_q1_vectors),\n",
    "                                                          np.nan_to_num(test_q2_vectors))]\n",
    "\n",
    "    test_data_features_w2v_2['braycurtis_distance'] = [braycurtis(x, y) for (x, y) in zip(np.nan_to_num(test_q1_vectors),\n",
    "                                                          np.nan_to_num(test_q2_vectors))]\n",
    "\n",
    "    test_data_features_w2v_2['skew_q1vec'] = [skew(x) for x in np.nan_to_num(test_q1_vectors)]\n",
    "    test_data_features_w2v_2['skew_q2vec'] = [skew(x) for x in np.nan_to_num(test_q2_vectors)]\n",
    "    test_data_features_w2v_2['kur_q1vec'] = [kurtosis(x) for x in np.nan_to_num(test_q1_vectors)]\n",
    "    test_data_features_w2v_2['kur_q2vec'] = [kurtosis(x) for x in np.nan_to_num(test_q2_vectors)]\n",
    "    elapsed = (time.time() - start)\n",
    "    print(str(ii)+\"Time used(w2v_3):\",elapsed)\n",
    "    \n",
    "    test_features = pd.concat([test_data_features_basic,test_data_features_fw,test_data_features_w2v_1,test_data_features_w2v_2],axis = 1)\n",
    "    test_features.to_pickle('test_features(no_magic)_'+str(ii)+'.pkl')\n",
    "\n",
    "elapsed = (time.time() - start_all)\n",
    "print(\"Time(all) used:\",elapsed)"
   ]
  },
  {
   "cell_type": "code",
   "execution_count": null,
   "metadata": {},
   "outputs": [],
   "source": []
  }
 ],
 "metadata": {
  "kernelspec": {
   "display_name": "Python 3",
   "language": "python",
   "name": "python3"
  },
  "language_info": {
   "codemirror_mode": {
    "name": "ipython",
    "version": 3
   },
   "file_extension": ".py",
   "mimetype": "text/x-python",
   "name": "python",
   "nbconvert_exporter": "python",
   "pygments_lexer": "ipython3",
   "version": "3.7.0"
  }
 },
 "nbformat": 4,
 "nbformat_minor": 2
}
